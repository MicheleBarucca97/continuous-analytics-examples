{
 "cells": [
  {
   "cell_type": "code",
   "execution_count": 1,
   "metadata": {},
   "outputs": [
    {
     "name": "stdout",
     "output_type": "stream",
     "text": [
      "Collecting confluent-kafka==1.7.0\n",
      "  Downloading confluent_kafka-1.7.0-cp38-cp38-manylinux2010_x86_64.whl (2.7 MB)\n",
      "\u001b[K     |████████████████████████████████| 2.7 MB 2.4 MB/s eta 0:00:01\n",
      "\u001b[?25hInstalling collected packages: confluent-kafka\n",
      "Successfully installed confluent-kafka-1.7.0\n"
     ]
    }
   ],
   "source": [
    "!pip install confluent-kafka==1.7.0"
   ]
  },
  {
   "cell_type": "code",
   "execution_count": 2,
   "metadata": {},
   "outputs": [],
   "source": [
    "from confluent_kafka.admin import AdminClient, NewTopic, NewPartitions\n",
    "from confluent_kafka import KafkaException\n",
    "import sys\n",
    "from uuid import uuid4"
   ]
  },
  {
   "cell_type": "code",
   "execution_count": 3,
   "metadata": {},
   "outputs": [],
   "source": [
    "bootstrap_server = \"kafka:9092\" # Brokers act as cluster entripoints"
   ]
  },
  {
   "cell_type": "code",
   "execution_count": 4,
   "metadata": {},
   "outputs": [],
   "source": [
    "conf = {'bootstrap.servers': bootstrap_server}"
   ]
  },
  {
   "cell_type": "code",
   "execution_count": 5,
   "metadata": {},
   "outputs": [],
   "source": [
    "a = AdminClient(conf)"
   ]
  },
  {
   "cell_type": "code",
   "execution_count": 6,
   "metadata": {},
   "outputs": [
    {
     "name": "stdout",
     "output_type": "stream",
     "text": [
      " 1 topics:\n",
      "  \"_schemas\" with 1 partition(s)\n"
     ]
    }
   ],
   "source": [
    "md = a.list_topics(timeout=10)\n",
    "print(\" {} topics:\".format(len(md.topics)))\n",
    "for t in iter(md.topics.values()):\n",
    "    if t.error is not None:\n",
    "        errstr = \": {}\".format(t.error)\n",
    "    else:\n",
    "        errstr = \"\"\n",
    "    print(\"  \\\"{}\\\" with {} partition(s){}\".format(t, len(t.partitions), errstr))"
   ]
  },
  {
   "cell_type": "code",
   "execution_count": 7,
   "metadata": {},
   "outputs": [],
   "source": [
    "from confluent_kafka import SerializingProducer\n",
    "from confluent_kafka.serialization import *\n",
    "\n",
    "import time\n",
    "\n",
    "topic = \"RoboticArm\"\n",
    "\n",
    "def delivery_report(err, msg):\n",
    "    if err is not None:\n",
    "        print(\"Failed to deliver message: {}\".format(err))\n",
    "    else:\n",
    "        print(\"Produced record to topic {} partition [{}] @ offset {}\"\n",
    "              .format(msg.topic(), msg.partition(), msg.offset()))"
   ]
  },
  {
   "cell_type": "code",
   "execution_count": 8,
   "metadata": {},
   "outputs": [],
   "source": [
    "producer_conf = {\n",
    "        'bootstrap.servers': bootstrap_server,\n",
    "        'key.serializer': StringSerializer('utf_8'),\n",
    "        'value.serializer': StringSerializer('utf_8')\n",
    "}\n",
    "\n",
    "producer = SerializingProducer(producer_conf)"
   ]
  },
  {
   "cell_type": "markdown",
   "metadata": {},
   "source": [
    "## run the following cell to loop across the data\n",
    "\n",
    "they are the same data as those in the EPL example only the time flows at **half of the speed**"
   ]
  },
  {
   "cell_type": "code",
   "execution_count": 10,
   "metadata": {},
   "outputs": [
    {
     "ename": "KeyboardInterrupt",
     "evalue": "",
     "output_type": "error",
     "traceback": [
      "\u001b[0;31m---------------------------------------------------------------------------\u001b[0m",
      "\u001b[0;31mKeyboardInterrupt\u001b[0m                         Traceback (most recent call last)",
      "\u001b[0;32m<ipython-input-10-8803525456c2>\u001b[0m in \u001b[0;36m<module>\u001b[0;34m\u001b[0m\n\u001b[1;32m     17\u001b[0m     \u001b[0msend\u001b[0m\u001b[0;34m(\u001b[0m\u001b[0;34m{\u001b[0m\u001b[0;34m\"id\"\u001b[0m\u001b[0;34m:\u001b[0m\u001b[0;34m\"1\"\u001b[0m\u001b[0;34m,\u001b[0m \u001b[0;34m\"status\"\u001b[0m\u001b[0;34m:\u001b[0m\u001b[0;34m\"movingGood\"\u001b[0m\u001b[0;34m,\u001b[0m \u001b[0;34m\"stressLevel\"\u001b[0m\u001b[0;34m:\u001b[0m \u001b[0;36m8\u001b[0m\u001b[0;34m,\u001b[0m \u001b[0;34m\"ts\"\u001b[0m\u001b[0;34m:\u001b[0m \u001b[0mts\u001b[0m\u001b[0;34m}\u001b[0m\u001b[0;34m)\u001b[0m\u001b[0;34m\u001b[0m\u001b[0;34m\u001b[0m\u001b[0m\n\u001b[1;32m     18\u001b[0m     \u001b[0msend\u001b[0m\u001b[0;34m(\u001b[0m\u001b[0;34m{\u001b[0m\u001b[0;34m\"id\"\u001b[0m\u001b[0;34m:\u001b[0m\u001b[0;34m\"2\"\u001b[0m\u001b[0;34m,\u001b[0m \u001b[0;34m\"status\"\u001b[0m\u001b[0;34m:\u001b[0m\u001b[0;34m\"ready\"\u001b[0m\u001b[0;34m,\u001b[0m \u001b[0;34m\"stressLevel\"\u001b[0m\u001b[0;34m:\u001b[0m \u001b[0;36m0\u001b[0m\u001b[0;34m,\u001b[0m \u001b[0;34m\"ts\"\u001b[0m\u001b[0;34m:\u001b[0m \u001b[0mts\u001b[0m \u001b[0;34m}\u001b[0m\u001b[0;34m)\u001b[0m\u001b[0;34m\u001b[0m\u001b[0;34m\u001b[0m\u001b[0m\n\u001b[0;32m---> 19\u001b[0;31m     \u001b[0mtime\u001b[0m\u001b[0;34m.\u001b[0m\u001b[0msleep\u001b[0m\u001b[0;34m(\u001b[0m\u001b[0;36m2\u001b[0m\u001b[0;34m)\u001b[0m\u001b[0;34m\u001b[0m\u001b[0;34m\u001b[0m\u001b[0m\n\u001b[0m\u001b[1;32m     20\u001b[0m     \u001b[0msend\u001b[0m\u001b[0;34m(\u001b[0m\u001b[0;34m{\u001b[0m\u001b[0;34m\"id\"\u001b[0m\u001b[0;34m:\u001b[0m\u001b[0;34m\"2\"\u001b[0m\u001b[0;34m,\u001b[0m \u001b[0;34m\"status\"\u001b[0m\u001b[0;34m:\u001b[0m\u001b[0;34m\"goodGrasped\"\u001b[0m\u001b[0;34m,\u001b[0m \u001b[0;34m\"stressLevel\"\u001b[0m\u001b[0;34m:\u001b[0m \u001b[0;36m5\u001b[0m\u001b[0;34m,\u001b[0m \u001b[0;34m\"ts\"\u001b[0m\u001b[0;34m:\u001b[0m  \u001b[0mint\u001b[0m\u001b[0;34m(\u001b[0m\u001b[0mtime\u001b[0m\u001b[0;34m.\u001b[0m\u001b[0mtime\u001b[0m\u001b[0;34m(\u001b[0m\u001b[0;34m)\u001b[0m\u001b[0;34m)\u001b[0m \u001b[0;34m}\u001b[0m\u001b[0;34m)\u001b[0m\u001b[0;34m\u001b[0m\u001b[0;34m\u001b[0m\u001b[0m\n\u001b[1;32m     21\u001b[0m     \u001b[0mtime\u001b[0m\u001b[0;34m.\u001b[0m\u001b[0msleep\u001b[0m\u001b[0;34m(\u001b[0m\u001b[0;36m1\u001b[0m\u001b[0;34m)\u001b[0m\u001b[0;34m\u001b[0m\u001b[0;34m\u001b[0m\u001b[0m\n",
      "\u001b[0;31mKeyboardInterrupt\u001b[0m: "
     ]
    }
   ],
   "source": [
    "import json\n",
    "from IPython.display import clear_output\n",
    "\n",
    "def send(value):\n",
    "    key = None\n",
    "    producer.produce(topic=topic, value=json.dumps(value), key=key, on_delivery=delivery_report)\n",
    "    print(value)\n",
    "    producer.poll(1)\n",
    "    clear_output(wait=True)\n",
    "\n",
    "while True:\n",
    "    send({\"id\":\"1\", \"status\":\"ready\", \"stressLevel\": 0, \"ts\": int(time.time())})\n",
    "    time.sleep(2)\n",
    "    send({\"id\":\"1\", \"status\": \"goodGrasped\", \"stressLevel\": 1, \"ts\": int(time.time())})                                                        \n",
    "    time.sleep(2)\n",
    "    ts = int(time.time())\n",
    "    send({\"id\":\"1\", \"status\":\"movingGood\", \"stressLevel\": 7, \"ts\": ts})\n",
    "    send({\"id\":\"2\", \"status\":\"ready\", \"stressLevel\": 0, \"ts\": ts })\n",
    "    time.sleep(2)\n",
    "    send({\"id\":\"2\", \"status\":\"goodGrasped\", \"stressLevel\": 5, \"ts\":  int(time.time()) })\n",
    "    time.sleep(1)\n",
    "    send({\"id\":\"2\", \"status\":\"movingGood\", \"stressLevel\": 9, \"ts\":  int(time.time()) })\n",
    "    time.sleep(10)\n",
    "    ts = int(time.time())\n",
    "    send({\"id\":\"1\", \"status\":\"placingGood\", \"stressLevel\": 3, \"ts\": ts})\n",
    "    send({\"id\":\"2\", \"status\":\"placingGood\", \"stressLevel\": 3, \"ts\": ts })   \n",
    "    time.sleep(8)\n",
    "    ts = int(time.time())\n",
    "    send({\"id\":\"1\", \"status\":\"moving\", \"stressLevel\": 2, \"ts\": ts})\n",
    "    send({\"id\":\"2\", \"status\":\"moving\", \"stressLevel\": 1, \"ts\": ts })       \n",
    "    time.sleep(6)\n",
    "    ts = int(time.time())\n",
    "    send({\"id\":\"1\", \"status\":\"ready\", \"stressLevel\": 0, \"ts\": ts})\n",
    "    send({\"id\":\"2\", \"status\":\"ready\", \"stressLevel\": 0, \"ts\": ts })   \n",
    "    time.sleep(2)"
   ]
  },
  {
   "cell_type": "markdown",
   "metadata": {},
   "source": [
    "to interrupt the execution of the cell, prese the square icon in the bar or choose *interrupt kernel* from the *kernel* dropdown menu"
   ]
  }
 ],
 "metadata": {
  "kernelspec": {
   "display_name": "Python 3",
   "language": "python",
   "name": "python3"
  },
  "language_info": {
   "codemirror_mode": {
    "name": "ipython",
    "version": 3
   },
   "file_extension": ".py",
   "mimetype": "text/x-python",
   "name": "python",
   "nbconvert_exporter": "python",
   "pygments_lexer": "ipython3",
   "version": "3.8.6"
  }
 },
 "nbformat": 4,
 "nbformat_minor": 4
}
