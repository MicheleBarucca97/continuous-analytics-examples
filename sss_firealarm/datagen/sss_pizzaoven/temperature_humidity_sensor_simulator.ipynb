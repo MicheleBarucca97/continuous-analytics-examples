{
 "cells": [
  {
   "cell_type": "code",
   "execution_count": 1,
   "metadata": {},
   "outputs": [
    {
     "name": "stdout",
     "output_type": "stream",
     "text": [
      "Requirement already satisfied: confluent-kafka==1.5 in /opt/conda/lib/python3.8/site-packages (1.5.0)\n"
     ]
    }
   ],
   "source": [
    "!pip install confluent-kafka==1.5"
   ]
  },
  {
   "cell_type": "code",
   "execution_count": 2,
   "metadata": {},
   "outputs": [],
   "source": [
    "from confluent_kafka.admin import AdminClient, NewTopic, NewPartitions\n",
    "from confluent_kafka import KafkaException\n",
    "import sys\n",
    "from uuid import uuid4"
   ]
  },
  {
   "cell_type": "code",
   "execution_count": 3,
   "metadata": {},
   "outputs": [],
   "source": [
    "bootstrap_server = \"kafka:9092\" # Brokers act as cluster entripoints"
   ]
  },
  {
   "cell_type": "code",
   "execution_count": 4,
   "metadata": {},
   "outputs": [],
   "source": [
    "conf = {'bootstrap.servers': bootstrap_server}"
   ]
  },
  {
   "cell_type": "code",
   "execution_count": 5,
   "metadata": {},
   "outputs": [],
   "source": [
    "a = AdminClient(conf)"
   ]
  },
  {
   "cell_type": "code",
   "execution_count": 6,
   "metadata": {},
   "outputs": [
    {
     "name": "stdout",
     "output_type": "stream",
     "text": [
      " 4 topics:\n",
      "  \"Temperature_Humidity_SensorEvent\" with 1 partition(s)\n",
      "  \"TemperatureHumiditySensorEvent\" with 1 partition(s)\n",
      "  \"_schemas\" with 1 partition(s)\n",
      "  \"__consumer_offsets\" with 50 partition(s)\n"
     ]
    }
   ],
   "source": [
    "md = a.list_topics(timeout=10)\n",
    "print(\" {} topics:\".format(len(md.topics)))\n",
    "for t in iter(md.topics.values()):\n",
    "    if t.error is not None:\n",
    "        errstr = \": {}\".format(t.error)\n",
    "    else:\n",
    "        errstr = \"\"\n",
    "    ##if not (str(t)).startswith(\"_\"):\n",
    "    print(\"  \\\"{}\\\" with {} partition(s){}\".format(t, len(t.partitions), errstr))"
   ]
  },
  {
   "cell_type": "code",
   "execution_count": 7,
   "metadata": {},
   "outputs": [],
   "source": [
    "#fs = a.create_topics([NewTopic(\"test1p\", num_partitions=1, replication_factor=1)])\n",
    "\n",
    "#for topic, f in fs.items():\n",
    "#    try:\n",
    "#        f.result()  # The result itself is None\n",
    "#        print(\"Topic {} created\".format(topic))\n",
    "#    except Exception as e:\n",
    "#        print(\"Failed to create topic {}: {}\".format(topic, e))"
   ]
  },
  {
   "cell_type": "code",
   "execution_count": 8,
   "metadata": {},
   "outputs": [],
   "source": [
    "from confluent_kafka import SerializingProducer\n",
    "from confluent_kafka.serialization import *\n",
    "import time\n",
    "\n",
    "topic = \"Temperature_Humidity_Sensor_Event\"\n",
    "\n",
    "def delivery_report(err, msg):\n",
    "    if err is not None:\n",
    "        print(\"Failed to deliver message: {}\".format(err))\n",
    "    else:\n",
    "        print(\"Produced record to topic {} partition [{}] @ offset {}\"\n",
    "              .format(msg.topic(), msg.partition(), msg.offset()))"
   ]
  },
  {
   "cell_type": "code",
   "execution_count": 9,
   "metadata": {},
   "outputs": [],
   "source": [
    "producer_conf = {\n",
    "        'bootstrap.servers': bootstrap_server,\n",
    "        'key.serializer': StringSerializer('utf_8'),\n",
    "        'value.serializer': StringSerializer('utf_8')\n",
    "}\n",
    "\n",
    "producer = SerializingProducer(producer_conf)"
   ]
  },
  {
   "cell_type": "markdown",
   "metadata": {},
   "source": [
    "## run the following cell to start streaming the data"
   ]
  },
  {
   "cell_type": "code",
   "execution_count": 10,
   "metadata": {},
   "outputs": [
    {
     "name": "stdout",
     "output_type": "stream",
     "text": [
      "{'sensor': 'S1', 'temperature': 290, 'humidity': 30, 'ts': 1595332800}\n",
      "{'sensor': 'S2', 'temperature': 105, 'humidity': 55, 'ts': 1595332815}\n",
      "Produced record to topic Temperature_Humidity_Sensor_Event partition [0] @ offset 0\n",
      "Produced record to topic Temperature_Humidity_Sensor_Event partition [0] @ offset 1\n",
      "{'sensor': 'S2', 'temperature': 110, 'humidity': 60, 'ts': 1595332845}\n",
      "Produced record to topic Temperature_Humidity_Sensor_Event partition [0] @ offset 2\n",
      "{'sensor': 'S1', 'temperature': 305, 'humidity': 38, 'ts': 1595332860}\n",
      "Produced record to topic Temperature_Humidity_Sensor_Event partition [0] @ offset 3\n",
      "{'sensor': 'S2', 'temperature': 120, 'humidity': 65, 'ts': 1595332875}\n",
      "Produced record to topic Temperature_Humidity_Sensor_Event partition [0] @ offset 4\n",
      "{'sensor': 'S2', 'temperature': 115, 'humidity': 60, 'ts': 1595332905}\n",
      "Produced record to topic Temperature_Humidity_Sensor_Event partition [0] @ offset 5\n",
      "{'sensor': 'S1', 'temperature': 280, 'humidity': 45, 'ts': 1595332920}\n",
      "Produced record to topic Temperature_Humidity_Sensor_Event partition [0] @ offset 6\n",
      "{'sensor': 'S2', 'temperature': 110, 'humidity': 67, 'ts': 1595332935}\n",
      "Produced record to topic Temperature_Humidity_Sensor_Event partition [0] @ offset 7\n",
      "{'sensor': 'S2', 'temperature': 115, 'humidity': 72, 'ts': 1595332965}\n",
      "Produced record to topic Temperature_Humidity_Sensor_Event partition [0] @ offset 8\n",
      "{'sensor': 'S1', 'temperature': 280, 'humidity': 22, 'ts': 1595332980}\n",
      "Produced record to topic Temperature_Humidity_Sensor_Event partition [0] @ offset 9\n",
      "{'sensor': 'S2', 'temperature': 95, 'humidity': 65, 'ts': 1595332995}\n",
      "Produced record to topic Temperature_Humidity_Sensor_Event partition [0] @ offset 10\n",
      "{'sensor': 'S2', 'temperature': 90, 'humidity': 60, 'ts': 1595333025}\n",
      "Produced record to topic Temperature_Humidity_Sensor_Event partition [0] @ offset 11\n",
      "{'sensor': 'S1', 'temperature': 285, 'humidity': 32, 'ts': 1595333040}\n",
      "Produced record to topic Temperature_Humidity_Sensor_Event partition [0] @ offset 12\n",
      "{'sensor': 'S2', 'temperature': 100, 'humidity': 55, 'ts': 1595333055}\n",
      "Produced record to topic Temperature_Humidity_Sensor_Event partition [0] @ offset 13\n",
      "{'sensor': 'S2', 'temperature': 105, 'humidity': 60, 'ts': 1595333085}\n",
      "Produced record to topic Temperature_Humidity_Sensor_Event partition [0] @ offset 14\n",
      "{'sensor': 'S1', 'temperature': 290, 'humidity': 30, 'ts': 1595333088}\n",
      "Produced record to topic Temperature_Humidity_Sensor_Event partition [0] @ offset 15\n",
      "{'sensor': 'S2', 'temperature': 105, 'humidity': 55, 'ts': 1595333091}\n",
      "Produced record to topic Temperature_Humidity_Sensor_Event partition [0] @ offset 16\n",
      "{'sensor': 'S2', 'temperature': 110, 'humidity': 60, 'ts': 1595333094}\n",
      "Produced record to topic Temperature_Humidity_Sensor_Event partition [0] @ offset 17\n",
      "{'sensor': 'S1', 'temperature': 305, 'humidity': 38, 'ts': 1595333097}\n",
      "Produced record to topic Temperature_Humidity_Sensor_Event partition [0] @ offset 18\n",
      "{'sensor': 'S2', 'temperature': 120, 'humidity': 65, 'ts': 1595333100}\n",
      "Produced record to topic Temperature_Humidity_Sensor_Event partition [0] @ offset 19\n",
      "{'sensor': 'S2', 'temperature': 115, 'humidity': 60, 'ts': 1595333103}\n",
      "Produced record to topic Temperature_Humidity_Sensor_Event partition [0] @ offset 20\n",
      "{'sensor': 'S1', 'temperature': 280, 'humidity': 45, 'ts': 1595333106}\n",
      "Produced record to topic Temperature_Humidity_Sensor_Event partition [0] @ offset 21\n",
      "{'sensor': 'S2', 'temperature': 110, 'humidity': 67, 'ts': 1595333109}\n",
      "Produced record to topic Temperature_Humidity_Sensor_Event partition [0] @ offset 22\n",
      "{'sensor': 'S2', 'temperature': 115, 'humidity': 72, 'ts': 1595333112}\n",
      "Produced record to topic Temperature_Humidity_Sensor_Event partition [0] @ offset 23\n",
      "{'sensor': 'S1', 'temperature': 280, 'humidity': 22, 'ts': 1595333115}\n",
      "Produced record to topic Temperature_Humidity_Sensor_Event partition [0] @ offset 24\n",
      "{'sensor': 'S2', 'temperature': 95, 'humidity': 65, 'ts': 1595333118}\n",
      "Produced record to topic Temperature_Humidity_Sensor_Event partition [0] @ offset 25\n",
      "{'sensor': 'S2', 'temperature': 90, 'humidity': 60, 'ts': 1595333121}\n",
      "Produced record to topic Temperature_Humidity_Sensor_Event partition [0] @ offset 26\n",
      "{'sensor': 'S1', 'temperature': 285, 'humidity': 32, 'ts': 1595333124}\n",
      "Produced record to topic Temperature_Humidity_Sensor_Event partition [0] @ offset 27\n",
      "{'sensor': 'S2', 'temperature': 100, 'humidity': 55, 'ts': 1595333127}\n",
      "Produced record to topic Temperature_Humidity_Sensor_Event partition [0] @ offset 28\n",
      "{'sensor': 'S2', 'temperature': 105, 'humidity': 60, 'ts': 1595333130}\n",
      "Produced record to topic Temperature_Humidity_Sensor_Event partition [0] @ offset 29\n"
     ]
    }
   ],
   "source": [
    "import json\n",
    "from random import gauss\n",
    "measurement_dict = {\n",
    "    \"1\": {\"sensor\":\"S1\", \"temperature\":290, \"humidity\":30, \"ts\":1595332800},\n",
    "    \"2\": {\"sensor\":\"S2\", \"temperature\":105, \"humidity\":55, \"ts\":1595332815},\n",
    "    \"3\": {\"sensor\":\"S2\", \"temperature\":110, \"humidity\":60, \"ts\":1595332845},\n",
    "    \"4\": {\"sensor\":\"S1\", \"temperature\":305, \"humidity\":38, \"ts\":1595332860},\n",
    "    \"5\": {\"sensor\":\"S2\", \"temperature\":120, \"humidity\":65, \"ts\":1595332875},\n",
    "    \"6\": {\"sensor\":\"S2\", \"temperature\":115, \"humidity\":60, \"ts\":1595332905},\n",
    "    \"7\": {\"sensor\":\"S1\", \"temperature\":280, \"humidity\":45, \"ts\":1595332920},\n",
    "    \"8\": {\"sensor\":\"S2\", \"temperature\":110, \"humidity\":67, \"ts\":1595332935},\n",
    "    \"9\": {\"sensor\":\"S2\", \"temperature\":115, \"humidity\":72, \"ts\":1595332965},\n",
    "    \"10\": {\"sensor\":\"S1\", \"temperature\":280,\"humidity\":22, \"ts\":1595332980},\n",
    "    \"11\": {\"sensor\":\"S2\", \"temperature\":95, \"humidity\":65, \"ts\":1595332995},\n",
    "    \"12\": {\"sensor\":\"S2\", \"temperature\":90, \"humidity\":60,  \"ts\":1595333025},\n",
    "    \"13\": {\"sensor\":\"S1\", \"temperature\":285, \"humidity\":32, \"ts\":1595333040},\n",
    "    \"14\": {\"sensor\":\"S2\", \"temperature\":100, \"humidity\":55, \"ts\":1595333055},\n",
    "    \"15\": {\"sensor\":\"S2\", \"temperature\":105, \"humidity\":60, \"ts\":1595333085}\n",
    "}\n",
    "#stream the original data with the original timestamps\n",
    "for measurement in measurement_dict.values():\n",
    "    key = measurement[\"sensor\"]\n",
    "    value = measurement\n",
    "    producer.produce(topic=topic, value=json.dumps(value), key=key, on_delivery=delivery_report)\n",
    "    print(value)\n",
    "    producer.poll(1)\n",
    "\n",
    "timestamp = 1595333085\n",
    "#create new data replacing the timestamp with now\n",
    "for measurement in measurement_dict.values():\n",
    "    timestamp = timestamp + 3\n",
    "    key = measurement[\"sensor\"]\n",
    "    measurement[\"ts\"] = timestamp\n",
    "    value = measurement\n",
    "    producer.produce(topic=topic, value=json.dumps(value), key=key, on_delivery=delivery_report)\n",
    "    print(value)\n",
    "    producer.poll(1)\n",
    "    time.sleep(3)"
   ]
  },
  {
   "cell_type": "markdown",
   "metadata": {},
   "source": [
    "## Run the following cell if you would like the streaming to keep going on"
   ]
  },
  {
   "cell_type": "code",
   "execution_count": 12,
   "metadata": {},
   "outputs": [
    {
     "name": "stdout",
     "output_type": "stream",
     "text": [
      "{'sensor': 'S1', 'temperature': 290, 'humidity': 30, 'ts': 1595333133}\n",
      "Produced record to topic Temperature_Humidity_Sensor_Event partition [0] @ offset 30\n",
      "{'sensor': 'S2', 'temperature': 105, 'humidity': 55, 'ts': 1595333136}\n",
      "Produced record to topic Temperature_Humidity_Sensor_Event partition [0] @ offset 31\n",
      "{'sensor': 'S2', 'temperature': 110, 'humidity': 60, 'ts': 1595333139}\n",
      "Produced record to topic Temperature_Humidity_Sensor_Event partition [0] @ offset 32\n",
      "{'sensor': 'S1', 'temperature': 305, 'humidity': 38, 'ts': 1595333142}\n",
      "Produced record to topic Temperature_Humidity_Sensor_Event partition [0] @ offset 33\n",
      "{'sensor': 'S2', 'temperature': 120, 'humidity': 65, 'ts': 1595333145}\n",
      "Produced record to topic Temperature_Humidity_Sensor_Event partition [0] @ offset 34\n",
      "{'sensor': 'S2', 'temperature': 115, 'humidity': 60, 'ts': 1595333148}\n",
      "Produced record to topic Temperature_Humidity_Sensor_Event partition [0] @ offset 35\n",
      "{'sensor': 'S1', 'temperature': 280, 'humidity': 45, 'ts': 1595333151}\n",
      "Produced record to topic Temperature_Humidity_Sensor_Event partition [0] @ offset 36\n",
      "{'sensor': 'S2', 'temperature': 110, 'humidity': 67, 'ts': 1595333154}\n",
      "Produced record to topic Temperature_Humidity_Sensor_Event partition [0] @ offset 37\n",
      "{'sensor': 'S2', 'temperature': 115, 'humidity': 72, 'ts': 1595333157}\n",
      "Produced record to topic Temperature_Humidity_Sensor_Event partition [0] @ offset 38\n",
      "{'sensor': 'S1', 'temperature': 280, 'humidity': 22, 'ts': 1595333160}\n",
      "Produced record to topic Temperature_Humidity_Sensor_Event partition [0] @ offset 39\n",
      "{'sensor': 'S2', 'temperature': 95, 'humidity': 65, 'ts': 1595333163}\n",
      "Produced record to topic Temperature_Humidity_Sensor_Event partition [0] @ offset 40\n",
      "{'sensor': 'S2', 'temperature': 90, 'humidity': 60, 'ts': 1595333166}\n",
      "Produced record to topic Temperature_Humidity_Sensor_Event partition [0] @ offset 41\n",
      "{'sensor': 'S1', 'temperature': 285, 'humidity': 32, 'ts': 1595333169}\n",
      "Produced record to topic Temperature_Humidity_Sensor_Event partition [0] @ offset 42\n",
      "{'sensor': 'S2', 'temperature': 100, 'humidity': 55, 'ts': 1595333172}\n",
      "Produced record to topic Temperature_Humidity_Sensor_Event partition [0] @ offset 43\n",
      "{'sensor': 'S2', 'temperature': 105, 'humidity': 60, 'ts': 1595333175}\n",
      "Produced record to topic Temperature_Humidity_Sensor_Event partition [0] @ offset 44\n",
      "{'sensor': 'S1', 'temperature': 290, 'humidity': 30, 'ts': 1595333178}\n",
      "Produced record to topic Temperature_Humidity_Sensor_Event partition [0] @ offset 45\n",
      "{'sensor': 'S2', 'temperature': 105, 'humidity': 55, 'ts': 1595333181}\n",
      "Produced record to topic Temperature_Humidity_Sensor_Event partition [0] @ offset 46\n",
      "{'sensor': 'S2', 'temperature': 110, 'humidity': 60, 'ts': 1595333184}\n",
      "Produced record to topic Temperature_Humidity_Sensor_Event partition [0] @ offset 47\n",
      "{'sensor': 'S1', 'temperature': 305, 'humidity': 38, 'ts': 1595333187}\n",
      "Produced record to topic Temperature_Humidity_Sensor_Event partition [0] @ offset 48\n",
      "{'sensor': 'S2', 'temperature': 120, 'humidity': 65, 'ts': 1595333190}\n",
      "Produced record to topic Temperature_Humidity_Sensor_Event partition [0] @ offset 49\n",
      "{'sensor': 'S2', 'temperature': 115, 'humidity': 60, 'ts': 1595333193}\n",
      "Produced record to topic Temperature_Humidity_Sensor_Event partition [0] @ offset 50\n",
      "{'sensor': 'S1', 'temperature': 280, 'humidity': 45, 'ts': 1595333196}\n",
      "Produced record to topic Temperature_Humidity_Sensor_Event partition [0] @ offset 51\n",
      "{'sensor': 'S2', 'temperature': 110, 'humidity': 67, 'ts': 1595333199}\n",
      "Produced record to topic Temperature_Humidity_Sensor_Event partition [0] @ offset 52\n",
      "{'sensor': 'S2', 'temperature': 115, 'humidity': 72, 'ts': 1595333202}\n",
      "Produced record to topic Temperature_Humidity_Sensor_Event partition [0] @ offset 53\n",
      "{'sensor': 'S1', 'temperature': 280, 'humidity': 22, 'ts': 1595333205}\n",
      "Produced record to topic Temperature_Humidity_Sensor_Event partition [0] @ offset 54\n",
      "{'sensor': 'S2', 'temperature': 95, 'humidity': 65, 'ts': 1595333208}\n",
      "Produced record to topic Temperature_Humidity_Sensor_Event partition [0] @ offset 55\n",
      "{'sensor': 'S2', 'temperature': 90, 'humidity': 60, 'ts': 1595333211}\n",
      "Produced record to topic Temperature_Humidity_Sensor_Event partition [0] @ offset 56\n",
      "{'sensor': 'S1', 'temperature': 285, 'humidity': 32, 'ts': 1595333214}\n",
      "Produced record to topic Temperature_Humidity_Sensor_Event partition [0] @ offset 57\n",
      "{'sensor': 'S2', 'temperature': 100, 'humidity': 55, 'ts': 1595333217}\n",
      "Produced record to topic Temperature_Humidity_Sensor_Event partition [0] @ offset 58\n",
      "{'sensor': 'S2', 'temperature': 105, 'humidity': 60, 'ts': 1595333220}\n",
      "Produced record to topic Temperature_Humidity_Sensor_Event partition [0] @ offset 59\n",
      "{'sensor': 'S1', 'temperature': 290, 'humidity': 30, 'ts': 1595333223}\n",
      "Produced record to topic Temperature_Humidity_Sensor_Event partition [0] @ offset 60\n"
     ]
    },
    {
     "ename": "KeyboardInterrupt",
     "evalue": "",
     "output_type": "error",
     "traceback": [
      "\u001b[0;31m---------------------------------------------------------------------------\u001b[0m",
      "\u001b[0;31mKeyboardInterrupt\u001b[0m                         Traceback (most recent call last)",
      "\u001b[0;32m<ipython-input-12-8551e9ce2dc9>\u001b[0m in \u001b[0;36m<module>\u001b[0;34m\u001b[0m\n\u001b[1;32m      8\u001b[0m         \u001b[0mprint\u001b[0m\u001b[0;34m(\u001b[0m\u001b[0mvalue\u001b[0m\u001b[0;34m)\u001b[0m\u001b[0;34m\u001b[0m\u001b[0;34m\u001b[0m\u001b[0m\n\u001b[1;32m      9\u001b[0m         \u001b[0mproducer\u001b[0m\u001b[0;34m.\u001b[0m\u001b[0mpoll\u001b[0m\u001b[0;34m(\u001b[0m\u001b[0;36m1\u001b[0m\u001b[0;34m)\u001b[0m\u001b[0;34m\u001b[0m\u001b[0;34m\u001b[0m\u001b[0m\n\u001b[0;32m---> 10\u001b[0;31m         \u001b[0mtime\u001b[0m\u001b[0;34m.\u001b[0m\u001b[0msleep\u001b[0m\u001b[0;34m(\u001b[0m\u001b[0;36m3\u001b[0m\u001b[0;34m)\u001b[0m\u001b[0;34m\u001b[0m\u001b[0;34m\u001b[0m\u001b[0m\n\u001b[0m",
      "\u001b[0;31mKeyboardInterrupt\u001b[0m: "
     ]
    }
   ],
   "source": [
    "while (True):\n",
    "    for measurement in measurement_dict.values():\n",
    "        timestamp = timestamp + 3\n",
    "        key = measurement[\"sensor\"]\n",
    "        measurement[\"ts\"] = timestamp\n",
    "        value = measurement\n",
    "        producer.produce(topic=topic, value=json.dumps(value), key=key, on_delivery=delivery_report)\n",
    "        print(value)\n",
    "        producer.poll(1)\n",
    "        time.sleep(3)"
   ]
  },
  {
   "cell_type": "code",
   "execution_count": null,
   "metadata": {},
   "outputs": [],
   "source": []
  }
 ],
 "metadata": {
  "kernelspec": {
   "display_name": "Python 3",
   "language": "python",
   "name": "python3"
  },
  "language_info": {
   "codemirror_mode": {
    "name": "ipython",
    "version": 3
   },
   "file_extension": ".py",
   "mimetype": "text/x-python",
   "name": "python",
   "nbconvert_exporter": "python",
   "pygments_lexer": "ipython3",
   "version": "3.8.6"
  }
 },
 "nbformat": 4,
 "nbformat_minor": 4
}
