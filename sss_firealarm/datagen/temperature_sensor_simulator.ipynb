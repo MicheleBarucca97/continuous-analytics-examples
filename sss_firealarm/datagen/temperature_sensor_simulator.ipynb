{
 "cells": [
  {
   "cell_type": "code",
   "execution_count": 1,
   "metadata": {},
   "outputs": [
    {
     "name": "stdout",
     "output_type": "stream",
     "text": [
      "Collecting confluent-kafka\n",
      "  Downloading confluent_kafka-1.5.0-cp38-cp38-manylinux1_x86_64.whl (8.1 MB)\n",
      "\u001b[K     |████████████████████████████████| 8.1 MB 23.2 MB/s eta 0:00:01\n",
      "\u001b[?25hInstalling collected packages: confluent-kafka\n",
      "Successfully installed confluent-kafka-1.5.0\n"
     ]
    }
   ],
   "source": [
    "!pip install confluent-kafka"
   ]
  },
  {
   "cell_type": "code",
   "execution_count": 2,
   "metadata": {},
   "outputs": [],
   "source": [
    "from confluent_kafka.admin import AdminClient, NewTopic, NewPartitions\n",
    "from confluent_kafka import KafkaException\n",
    "import sys\n",
    "from uuid import uuid4"
   ]
  },
  {
   "cell_type": "code",
   "execution_count": 3,
   "metadata": {},
   "outputs": [],
   "source": [
    "bootstrap_server = \"kafka:9092\" # Brokers act as cluster entripoints"
   ]
  },
  {
   "cell_type": "code",
   "execution_count": 4,
   "metadata": {},
   "outputs": [],
   "source": [
    "conf = {'bootstrap.servers': bootstrap_server}"
   ]
  },
  {
   "cell_type": "code",
   "execution_count": 5,
   "metadata": {},
   "outputs": [],
   "source": [
    "a = AdminClient(conf)"
   ]
  },
  {
   "cell_type": "code",
   "execution_count": 6,
   "metadata": {},
   "outputs": [
    {
     "name": "stdout",
     "output_type": "stream",
     "text": [
      " 1 topics:\n",
      "  \"_schemas\" with 1 partition(s)\n"
     ]
    }
   ],
   "source": [
    "md = a.list_topics(timeout=10)\n",
    "print(\" {} topics:\".format(len(md.topics)))\n",
    "for t in iter(md.topics.values()):\n",
    "    if t.error is not None:\n",
    "        errstr = \": {}\".format(t.error)\n",
    "    else:\n",
    "        errstr = \"\"\n",
    "    ##if not (str(t)).startswith(\"_\"):\n",
    "    print(\"  \\\"{}\\\" with {} partition(s){}\".format(t, len(t.partitions), errstr))"
   ]
  },
  {
   "cell_type": "code",
   "execution_count": 7,
   "metadata": {},
   "outputs": [],
   "source": [
    "#fs = a.create_topics([NewTopic(\"test1p\", num_partitions=1, replication_factor=1)])\n",
    "\n",
    "#for topic, f in fs.items():\n",
    "#    try:\n",
    "#        f.result()  # The result itself is None\n",
    "#        print(\"Topic {} created\".format(topic))\n",
    "#    except Exception as e:\n",
    "#        print(\"Failed to create topic {}: {}\".format(topic, e))"
   ]
  },
  {
   "cell_type": "code",
   "execution_count": 8,
   "metadata": {},
   "outputs": [],
   "source": [
    "from confluent_kafka import SerializingProducer\n",
    "from confluent_kafka.serialization import *\n",
    "import time\n",
    "\n",
    "topic = \"TemperatureSensorEvent\"\n",
    "\n",
    "def delivery_report(err, msg):\n",
    "    if err is not None:\n",
    "        print(\"Failed to deliver message: {}\".format(err))\n",
    "    else:\n",
    "        print(\"Produced record to topic {} partition [{}] @ offset {}\"\n",
    "              .format(msg.topic(), msg.partition(), msg.offset()))"
   ]
  },
  {
   "cell_type": "code",
   "execution_count": 9,
   "metadata": {},
   "outputs": [],
   "source": [
    "producer_conf = {\n",
    "        'bootstrap.servers': bootstrap_server,\n",
    "        'key.serializer': StringSerializer('utf_8'),\n",
    "        'value.serializer': StringSerializer('utf_8')\n",
    "}\n",
    "\n",
    "producer = SerializingProducer(producer_conf)"
   ]
  },
  {
   "cell_type": "markdown",
   "metadata": {},
   "source": [
    "## run the following cell to demostrate that fire is not detected"
   ]
  },
  {
   "cell_type": "code",
   "execution_count": 10,
   "metadata": {},
   "outputs": [
    {
     "name": "stdout",
     "output_type": "stream",
     "text": [
      "{'sensor': 'S1', 'temperature': 21.731105455964585, 'ts': 1606232071}\n",
      "{'sensor': 'S1', 'temperature': 20.45618833625183, 'ts': 1606232082}\n",
      "Produced record to topic TemperatureSensorEvent partition [0] @ offset 0\n",
      "{'sensor': 'S1', 'temperature': 19.913187558860802, 'ts': 1606232092}\n",
      "Produced record to topic TemperatureSensorEvent partition [0] @ offset 1\n",
      "{'sensor': 'S1', 'temperature': 20.81828476345006, 'ts': 1606232102}\n",
      "Produced record to topic TemperatureSensorEvent partition [0] @ offset 2\n",
      "{'sensor': 'S1', 'temperature': 20.054285720118937, 'ts': 1606232112}\n",
      "Produced record to topic TemperatureSensorEvent partition [0] @ offset 3\n",
      "{'sensor': 'S1', 'temperature': 18.6608704823843, 'ts': 1606232122}\n",
      "Produced record to topic TemperatureSensorEvent partition [0] @ offset 4\n",
      "{'sensor': 'S1', 'temperature': 19.709396657769005, 'ts': 1606232132}\n",
      "Produced record to topic TemperatureSensorEvent partition [0] @ offset 5\n",
      "{'sensor': 'S1', 'temperature': 20.28286479862641, 'ts': 1606232142}\n",
      "Produced record to topic TemperatureSensorEvent partition [0] @ offset 6\n",
      "{'sensor': 'S1', 'temperature': 18.777346685303023, 'ts': 1606232153}\n",
      "Produced record to topic TemperatureSensorEvent partition [0] @ offset 7\n",
      "{'sensor': 'S1', 'temperature': 18.35590570480922, 'ts': 1606232163}\n",
      "Produced record to topic TemperatureSensorEvent partition [0] @ offset 8\n",
      "{'sensor': 'S1', 'temperature': 20.40875299426843, 'ts': 1606232173}\n",
      "Produced record to topic TemperatureSensorEvent partition [0] @ offset 9\n",
      "{'sensor': 'S1', 'temperature': 18.49048736556215, 'ts': 1606232183}\n",
      "Produced record to topic TemperatureSensorEvent partition [0] @ offset 10\n",
      "{'sensor': 'S1', 'temperature': 17.031215672417662, 'ts': 1606232193}\n",
      "Produced record to topic TemperatureSensorEvent partition [0] @ offset 11\n",
      "{'sensor': 'S1', 'temperature': 19.76588504106848, 'ts': 1606232203}\n",
      "Produced record to topic TemperatureSensorEvent partition [0] @ offset 12\n",
      "{'sensor': 'S1', 'temperature': 20.063683878956194, 'ts': 1606232213}\n",
      "Produced record to topic TemperatureSensorEvent partition [0] @ offset 13\n",
      "{'sensor': 'S1', 'temperature': 19.51451874864409, 'ts': 1606232223}\n",
      "Produced record to topic TemperatureSensorEvent partition [0] @ offset 14\n",
      "{'sensor': 'S1', 'temperature': 18.80556269156771, 'ts': 1606232233}\n",
      "Produced record to topic TemperatureSensorEvent partition [0] @ offset 15\n",
      "{'sensor': 'S1', 'temperature': 20.063159869652953, 'ts': 1606232243}\n",
      "Produced record to topic TemperatureSensorEvent partition [0] @ offset 16\n",
      "{'sensor': 'S1', 'temperature': 20.01494371593746, 'ts': 1606232253}\n",
      "Produced record to topic TemperatureSensorEvent partition [0] @ offset 17\n",
      "{'sensor': 'S1', 'temperature': 19.92012821168222, 'ts': 1606232263}\n",
      "Produced record to topic TemperatureSensorEvent partition [0] @ offset 18\n",
      "{'sensor': 'S1', 'temperature': 18.75221315652197, 'ts': 1606232273}\n",
      "Produced record to topic TemperatureSensorEvent partition [0] @ offset 19\n",
      "{'sensor': 'S1', 'temperature': 20.414640551230566, 'ts': 1606232283}\n",
      "Produced record to topic TemperatureSensorEvent partition [0] @ offset 20\n",
      "{'sensor': 'S1', 'temperature': 20.062389326889676, 'ts': 1606232293}\n",
      "Produced record to topic TemperatureSensorEvent partition [0] @ offset 21\n",
      "{'sensor': 'S1', 'temperature': 17.84627000072656, 'ts': 1606232303}\n",
      "Produced record to topic TemperatureSensorEvent partition [0] @ offset 22\n",
      "{'sensor': 'S1', 'temperature': 18.55665773254015, 'ts': 1606232313}\n",
      "Produced record to topic TemperatureSensorEvent partition [0] @ offset 23\n",
      "{'sensor': 'S1', 'temperature': 20.164759107423503, 'ts': 1606232323}\n",
      "Produced record to topic TemperatureSensorEvent partition [0] @ offset 24\n",
      "{'sensor': 'S1', 'temperature': 20.046708018738805, 'ts': 1606232333}\n",
      "Produced record to topic TemperatureSensorEvent partition [0] @ offset 25\n",
      "{'sensor': 'S1', 'temperature': 21.767520687348078, 'ts': 1606232343}\n",
      "Produced record to topic TemperatureSensorEvent partition [0] @ offset 26\n",
      "{'sensor': 'S1', 'temperature': 21.229163318029695, 'ts': 1606232353}\n",
      "Produced record to topic TemperatureSensorEvent partition [0] @ offset 27\n",
      "{'sensor': 'S1', 'temperature': 19.386629993098186, 'ts': 1606232363}\n",
      "Produced record to topic TemperatureSensorEvent partition [0] @ offset 28\n",
      "{'sensor': 'S1', 'temperature': 21.047040459982238, 'ts': 1606232373}\n",
      "Produced record to topic TemperatureSensorEvent partition [0] @ offset 29\n",
      "{'sensor': 'S1', 'temperature': 19.661791700421272, 'ts': 1606232383}\n",
      "Produced record to topic TemperatureSensorEvent partition [0] @ offset 30\n",
      "{'sensor': 'S1', 'temperature': 17.963304758422662, 'ts': 1606232393}\n",
      "Produced record to topic TemperatureSensorEvent partition [0] @ offset 31\n",
      "{'sensor': 'S1', 'temperature': 19.700404202103176, 'ts': 1606232403}\n",
      "Produced record to topic TemperatureSensorEvent partition [0] @ offset 32\n",
      "{'sensor': 'S1', 'temperature': 21.244634319821305, 'ts': 1606232413}\n",
      "Produced record to topic TemperatureSensorEvent partition [0] @ offset 33\n",
      "{'sensor': 'S1', 'temperature': 20.467996774052832, 'ts': 1606232423}\n",
      "Produced record to topic TemperatureSensorEvent partition [0] @ offset 34\n",
      "{'sensor': 'S1', 'temperature': 19.058415060213136, 'ts': 1606232433}\n",
      "Produced record to topic TemperatureSensorEvent partition [0] @ offset 35\n",
      "{'sensor': 'S1', 'temperature': 19.095502515044096, 'ts': 1606232443}\n",
      "Produced record to topic TemperatureSensorEvent partition [0] @ offset 36\n",
      "{'sensor': 'S1', 'temperature': 20.865285244500235, 'ts': 1606232453}\n",
      "Produced record to topic TemperatureSensorEvent partition [0] @ offset 37\n",
      "{'sensor': 'S1', 'temperature': 20.265321271072978, 'ts': 1606232463}\n",
      "Produced record to topic TemperatureSensorEvent partition [0] @ offset 38\n",
      "{'sensor': 'S1', 'temperature': 19.190780641128445, 'ts': 1606232473}\n",
      "Produced record to topic TemperatureSensorEvent partition [0] @ offset 39\n",
      "{'sensor': 'S1', 'temperature': 18.511876647411714, 'ts': 1606232483}\n",
      "Produced record to topic TemperatureSensorEvent partition [0] @ offset 40\n",
      "{'sensor': 'S1', 'temperature': 18.610966552381807, 'ts': 1606232493}\n",
      "Produced record to topic TemperatureSensorEvent partition [0] @ offset 41\n",
      "{'sensor': 'S1', 'temperature': 19.234321976331415, 'ts': 1606232503}\n",
      "Produced record to topic TemperatureSensorEvent partition [0] @ offset 42\n",
      "{'sensor': 'S1', 'temperature': 19.96621420146236, 'ts': 1606232513}\n",
      "Produced record to topic TemperatureSensorEvent partition [0] @ offset 43\n",
      "{'sensor': 'S1', 'temperature': 20.79336967439804, 'ts': 1606232523}\n",
      "Produced record to topic TemperatureSensorEvent partition [0] @ offset 44\n",
      "{'sensor': 'S1', 'temperature': 19.5823312618944, 'ts': 1606232533}\n",
      "Produced record to topic TemperatureSensorEvent partition [0] @ offset 45\n",
      "{'sensor': 'S1', 'temperature': 20.812211462258283, 'ts': 1606232543}\n",
      "Produced record to topic TemperatureSensorEvent partition [0] @ offset 46\n",
      "{'sensor': 'S1', 'temperature': 21.808426619595036, 'ts': 1606232553}\n",
      "Produced record to topic TemperatureSensorEvent partition [0] @ offset 47\n",
      "{'sensor': 'S1', 'temperature': 19.88103565661131, 'ts': 1606232563}\n",
      "Produced record to topic TemperatureSensorEvent partition [0] @ offset 48\n",
      "{'sensor': 'S1', 'temperature': 19.235549211012408, 'ts': 1606232573}\n",
      "Produced record to topic TemperatureSensorEvent partition [0] @ offset 49\n",
      "{'sensor': 'S1', 'temperature': 19.35762470616554, 'ts': 1606232583}\n",
      "Produced record to topic TemperatureSensorEvent partition [0] @ offset 50\n",
      "{'sensor': 'S1', 'temperature': 20.46216831889372, 'ts': 1606232593}\n",
      "Produced record to topic TemperatureSensorEvent partition [0] @ offset 51\n",
      "{'sensor': 'S1', 'temperature': 17.641781947949582, 'ts': 1606232603}\n",
      "Produced record to topic TemperatureSensorEvent partition [0] @ offset 52\n",
      "{'sensor': 'S1', 'temperature': 21.12522517207863, 'ts': 1606232613}\n",
      "Produced record to topic TemperatureSensorEvent partition [0] @ offset 53\n",
      "{'sensor': 'S1', 'temperature': 19.339827160087886, 'ts': 1606232623}\n",
      "Produced record to topic TemperatureSensorEvent partition [0] @ offset 54\n",
      "{'sensor': 'S1', 'temperature': 18.50257880320597, 'ts': 1606232633}\n",
      "Produced record to topic TemperatureSensorEvent partition [0] @ offset 55\n",
      "{'sensor': 'S1', 'temperature': 19.6803039163962, 'ts': 1606232643}\n",
      "Produced record to topic TemperatureSensorEvent partition [0] @ offset 56\n",
      "{'sensor': 'S1', 'temperature': 19.46714676987843, 'ts': 1606232653}\n",
      "Produced record to topic TemperatureSensorEvent partition [0] @ offset 57\n",
      "{'sensor': 'S1', 'temperature': 18.487508646280563, 'ts': 1606232663}\n",
      "Produced record to topic TemperatureSensorEvent partition [0] @ offset 58\n"
     ]
    },
    {
     "ename": "KeyboardInterrupt",
     "evalue": "",
     "output_type": "error",
     "traceback": [
      "\u001b[0;31m---------------------------------------------------------------------------\u001b[0m",
      "\u001b[0;31mKeyboardInterrupt\u001b[0m                         Traceback (most recent call last)",
      "\u001b[0;32m<ipython-input-10-9f3579430ab4>\u001b[0m in \u001b[0;36m<module>\u001b[0;34m\u001b[0m\n\u001b[1;32m      8\u001b[0m     \u001b[0mprint\u001b[0m\u001b[0;34m(\u001b[0m\u001b[0mvalue\u001b[0m\u001b[0;34m)\u001b[0m\u001b[0;34m\u001b[0m\u001b[0;34m\u001b[0m\u001b[0m\n\u001b[1;32m      9\u001b[0m     \u001b[0mproducer\u001b[0m\u001b[0;34m.\u001b[0m\u001b[0mpoll\u001b[0m\u001b[0;34m(\u001b[0m\u001b[0;36m1\u001b[0m\u001b[0;34m)\u001b[0m\u001b[0;34m\u001b[0m\u001b[0;34m\u001b[0m\u001b[0m\n\u001b[0;32m---> 10\u001b[0;31m     \u001b[0mtime\u001b[0m\u001b[0;34m.\u001b[0m\u001b[0msleep\u001b[0m\u001b[0;34m(\u001b[0m\u001b[0;36m10\u001b[0m\u001b[0;34m)\u001b[0m\u001b[0;34m\u001b[0m\u001b[0;34m\u001b[0m\u001b[0m\n\u001b[0m",
      "\u001b[0;31mKeyboardInterrupt\u001b[0m: "
     ]
    }
   ],
   "source": [
    "import json\n",
    "from random import gauss\n",
    "\n",
    "while True:\n",
    "    key = \"S1\"\n",
    "    value = {\"sensor\": \"S1\",\"temperature\": gauss(20, 1.0),\"ts\":int(time.time())}\n",
    "    producer.produce(topic=topic, value=json.dumps(value), key=key, on_delivery=delivery_report)\n",
    "    print(value)\n",
    "    producer.poll(1)\n",
    "    time.sleep(10)\n"
   ]
  },
  {
   "cell_type": "markdown",
   "metadata": {},
   "source": [
    "## run the following cell to demostrate to detect fire"
   ]
  },
  {
   "cell_type": "code",
   "execution_count": null,
   "metadata": {},
   "outputs": [
    {
     "name": "stdout",
     "output_type": "stream",
     "text": [
      "{'sensor': 'S1', 'temperature': 54.831176555315075, 'ts': 1606232670}\n",
      "Produced record to topic TemperatureSensorEvent partition [0] @ offset 59\n",
      "{'sensor': 'S1', 'temperature': 54.32476408364215, 'ts': 1606232680}\n",
      "Produced record to topic TemperatureSensorEvent partition [0] @ offset 60\n",
      "{'sensor': 'S1', 'temperature': 56.08683922464601, 'ts': 1606232690}\n",
      "Produced record to topic TemperatureSensorEvent partition [0] @ offset 61\n",
      "{'sensor': 'S1', 'temperature': 54.16334995583129, 'ts': 1606232700}\n",
      "Produced record to topic TemperatureSensorEvent partition [0] @ offset 62\n",
      "{'sensor': 'S1', 'temperature': 55.826471157258936, 'ts': 1606232710}\n",
      "Produced record to topic TemperatureSensorEvent partition [0] @ offset 63\n",
      "{'sensor': 'S1', 'temperature': 55.833924512225245, 'ts': 1606232720}\n",
      "Produced record to topic TemperatureSensorEvent partition [0] @ offset 64\n",
      "{'sensor': 'S1', 'temperature': 55.71221114579938, 'ts': 1606232730}\n",
      "Produced record to topic TemperatureSensorEvent partition [0] @ offset 65\n",
      "{'sensor': 'S1', 'temperature': 52.049422384026336, 'ts': 1606232740}\n",
      "Produced record to topic TemperatureSensorEvent partition [0] @ offset 66\n",
      "{'sensor': 'S1', 'temperature': 52.771381323445134, 'ts': 1606232750}\n",
      "Produced record to topic TemperatureSensorEvent partition [0] @ offset 67\n",
      "{'sensor': 'S1', 'temperature': 55.27041502791941, 'ts': 1606232760}\n",
      "Produced record to topic TemperatureSensorEvent partition [0] @ offset 68\n",
      "{'sensor': 'S1', 'temperature': 55.48798015334358, 'ts': 1606232770}\n",
      "Produced record to topic TemperatureSensorEvent partition [0] @ offset 69\n",
      "{'sensor': 'S1', 'temperature': 56.350450960085446, 'ts': 1606232780}\n",
      "Produced record to topic TemperatureSensorEvent partition [0] @ offset 70\n",
      "{'sensor': 'S1', 'temperature': 54.582574283686824, 'ts': 1606232790}\n",
      "Produced record to topic TemperatureSensorEvent partition [0] @ offset 71\n",
      "{'sensor': 'S1', 'temperature': 56.1330966429657, 'ts': 1606232800}\n",
      "Produced record to topic TemperatureSensorEvent partition [0] @ offset 72\n",
      "{'sensor': 'S1', 'temperature': 54.553178692355715, 'ts': 1606232810}\n",
      "Produced record to topic TemperatureSensorEvent partition [0] @ offset 73\n",
      "{'sensor': 'S1', 'temperature': 54.92313677706069, 'ts': 1606232820}\n",
      "Produced record to topic TemperatureSensorEvent partition [0] @ offset 74\n",
      "{'sensor': 'S1', 'temperature': 55.07222862122178, 'ts': 1606232830}\n",
      "Produced record to topic TemperatureSensorEvent partition [0] @ offset 75\n",
      "{'sensor': 'S1', 'temperature': 55.654855166010805, 'ts': 1606232840}\n",
      "Produced record to topic TemperatureSensorEvent partition [0] @ offset 76\n",
      "{'sensor': 'S1', 'temperature': 53.55863775330989, 'ts': 1606232850}\n",
      "Produced record to topic TemperatureSensorEvent partition [0] @ offset 77\n",
      "{'sensor': 'S1', 'temperature': 55.181727462144686, 'ts': 1606232860}\n",
      "Produced record to topic TemperatureSensorEvent partition [0] @ offset 78\n",
      "{'sensor': 'S1', 'temperature': 56.414622361270375, 'ts': 1606232870}\n",
      "Produced record to topic TemperatureSensorEvent partition [0] @ offset 79\n",
      "{'sensor': 'S1', 'temperature': 54.63281691245888, 'ts': 1606232880}\n",
      "Produced record to topic TemperatureSensorEvent partition [0] @ offset 80\n",
      "{'sensor': 'S1', 'temperature': 55.852176758210504, 'ts': 1606232890}\n",
      "Produced record to topic TemperatureSensorEvent partition [0] @ offset 81\n",
      "{'sensor': 'S1', 'temperature': 54.06561289329781, 'ts': 1606232900}\n",
      "Produced record to topic TemperatureSensorEvent partition [0] @ offset 82\n",
      "{'sensor': 'S1', 'temperature': 54.823639019772266, 'ts': 1606232910}\n",
      "Produced record to topic TemperatureSensorEvent partition [0] @ offset 83\n",
      "{'sensor': 'S1', 'temperature': 53.963539066272695, 'ts': 1606232920}\n",
      "Produced record to topic TemperatureSensorEvent partition [0] @ offset 84\n",
      "{'sensor': 'S1', 'temperature': 55.62406527314299, 'ts': 1606232930}\n",
      "Produced record to topic TemperatureSensorEvent partition [0] @ offset 85\n",
      "{'sensor': 'S1', 'temperature': 53.622466092823714, 'ts': 1606232940}\n",
      "Produced record to topic TemperatureSensorEvent partition [0] @ offset 86\n",
      "{'sensor': 'S1', 'temperature': 56.73418863185747, 'ts': 1606232950}\n",
      "Produced record to topic TemperatureSensorEvent partition [0] @ offset 87\n",
      "{'sensor': 'S1', 'temperature': 56.03015985915285, 'ts': 1606232960}\n",
      "Produced record to topic TemperatureSensorEvent partition [0] @ offset 88\n",
      "{'sensor': 'S1', 'temperature': 54.510582635292664, 'ts': 1606232970}\n",
      "Produced record to topic TemperatureSensorEvent partition [0] @ offset 89\n",
      "{'sensor': 'S1', 'temperature': 55.92648429059158, 'ts': 1606232980}\n",
      "Produced record to topic TemperatureSensorEvent partition [0] @ offset 90\n",
      "{'sensor': 'S1', 'temperature': 54.30295662211307, 'ts': 1606232990}\n",
      "Produced record to topic TemperatureSensorEvent partition [0] @ offset 91\n",
      "{'sensor': 'S1', 'temperature': 55.488544588184254, 'ts': 1606233000}\n",
      "Produced record to topic TemperatureSensorEvent partition [0] @ offset 92\n",
      "{'sensor': 'S1', 'temperature': 53.369548000088095, 'ts': 1606233010}\n",
      "Produced record to topic TemperatureSensorEvent partition [0] @ offset 93\n",
      "{'sensor': 'S1', 'temperature': 55.06404611516838, 'ts': 1606233020}\n",
      "Produced record to topic TemperatureSensorEvent partition [0] @ offset 94\n",
      "{'sensor': 'S1', 'temperature': 56.6234293519899, 'ts': 1606233030}\n",
      "Produced record to topic TemperatureSensorEvent partition [0] @ offset 95\n",
      "{'sensor': 'S1', 'temperature': 55.430964698724566, 'ts': 1606233040}\n",
      "Produced record to topic TemperatureSensorEvent partition [0] @ offset 96\n",
      "{'sensor': 'S1', 'temperature': 54.90834911792801, 'ts': 1606233050}\n",
      "Produced record to topic TemperatureSensorEvent partition [0] @ offset 97\n",
      "{'sensor': 'S1', 'temperature': 54.666400961333274, 'ts': 1606233060}\n",
      "Produced record to topic TemperatureSensorEvent partition [0] @ offset 98\n",
      "{'sensor': 'S1', 'temperature': 55.13397582133497, 'ts': 1606233070}\n",
      "Produced record to topic TemperatureSensorEvent partition [0] @ offset 99\n",
      "{'sensor': 'S1', 'temperature': 53.953124379196176, 'ts': 1606233080}\n",
      "Produced record to topic TemperatureSensorEvent partition [0] @ offset 100\n",
      "{'sensor': 'S1', 'temperature': 54.90740458150539, 'ts': 1606233090}\n",
      "Produced record to topic TemperatureSensorEvent partition [0] @ offset 101\n",
      "{'sensor': 'S1', 'temperature': 53.95742375038083, 'ts': 1606233100}\n",
      "Produced record to topic TemperatureSensorEvent partition [0] @ offset 102\n",
      "{'sensor': 'S1', 'temperature': 56.733434279054606, 'ts': 1606233110}\n",
      "Produced record to topic TemperatureSensorEvent partition [0] @ offset 103\n",
      "{'sensor': 'S1', 'temperature': 56.182083584296535, 'ts': 1606233120}\n",
      "Produced record to topic TemperatureSensorEvent partition [0] @ offset 104\n",
      "{'sensor': 'S1', 'temperature': 55.90328398931211, 'ts': 1606233130}\n",
      "Produced record to topic TemperatureSensorEvent partition [0] @ offset 105\n",
      "{'sensor': 'S1', 'temperature': 55.862511821793156, 'ts': 1606233140}\n",
      "Produced record to topic TemperatureSensorEvent partition [0] @ offset 106\n",
      "{'sensor': 'S1', 'temperature': 54.49045430108348, 'ts': 1606233150}\n",
      "Produced record to topic TemperatureSensorEvent partition [0] @ offset 107\n",
      "{'sensor': 'S1', 'temperature': 52.67568080726281, 'ts': 1606233160}\n",
      "Produced record to topic TemperatureSensorEvent partition [0] @ offset 108\n",
      "{'sensor': 'S1', 'temperature': 56.19820006589034, 'ts': 1606233170}\n",
      "Produced record to topic TemperatureSensorEvent partition [0] @ offset 109\n",
      "{'sensor': 'S1', 'temperature': 54.84150558096758, 'ts': 1606233180}\n",
      "Produced record to topic TemperatureSensorEvent partition [0] @ offset 110\n",
      "{'sensor': 'S1', 'temperature': 55.64444157527142, 'ts': 1606233190}\n",
      "Produced record to topic TemperatureSensorEvent partition [0] @ offset 111\n",
      "{'sensor': 'S1', 'temperature': 54.86291863122492, 'ts': 1606233200}\n",
      "Produced record to topic TemperatureSensorEvent partition [0] @ offset 112\n",
      "{'sensor': 'S1', 'temperature': 56.89565750966025, 'ts': 1606233210}\n",
      "Produced record to topic TemperatureSensorEvent partition [0] @ offset 113\n"
     ]
    }
   ],
   "source": [
    "while True:\n",
    "    key = \"S1\"\n",
    "    value = {\"sensor\": \"S1\",\"temperature\": gauss(55, 1.0),\"ts\":int(time.time())}\n",
    "    producer.produce(topic=topic, value=json.dumps(value), key=key, on_delivery=delivery_report)\n",
    "    print(value)\n",
    "    producer.poll(1)\n",
    "    time.sleep(10)"
   ]
  },
  {
   "cell_type": "code",
   "execution_count": null,
   "metadata": {},
   "outputs": [],
   "source": []
  }
 ],
 "metadata": {
  "kernelspec": {
   "display_name": "Python 3",
   "language": "python",
   "name": "python3"
  },
  "language_info": {
   "codemirror_mode": {
    "name": "ipython",
    "version": 3
   },
   "file_extension": ".py",
   "mimetype": "text/x-python",
   "name": "python",
   "nbconvert_exporter": "python",
   "pygments_lexer": "ipython3",
   "version": "3.8.6"
  }
 },
 "nbformat": 4,
 "nbformat_minor": 4
}
