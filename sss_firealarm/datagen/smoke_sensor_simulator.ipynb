{
 "cells": [
  {
   "cell_type": "code",
   "execution_count": 1,
   "metadata": {},
   "outputs": [
    {
     "name": "stdout",
     "output_type": "stream",
     "text": [
      "Requirement already satisfied: confluent_kafka in /opt/conda/lib/python3.8/site-packages (1.5.0)\n"
     ]
    }
   ],
   "source": [
    "!pip install confluent_kafka"
   ]
  },
  {
   "cell_type": "code",
   "execution_count": 2,
   "metadata": {},
   "outputs": [],
   "source": [
    "from confluent_kafka.admin import AdminClient, NewTopic, NewPartitions\n",
    "from confluent_kafka import KafkaException\n",
    "import sys\n",
    "from uuid import uuid4"
   ]
  },
  {
   "cell_type": "code",
   "execution_count": 3,
   "metadata": {},
   "outputs": [],
   "source": [
    "bootstrap_server = \"kafka:9092\" # Brokers act as cluster entripoints"
   ]
  },
  {
   "cell_type": "code",
   "execution_count": 4,
   "metadata": {},
   "outputs": [],
   "source": [
    "conf = {'bootstrap.servers': bootstrap_server}"
   ]
  },
  {
   "cell_type": "code",
   "execution_count": 5,
   "metadata": {},
   "outputs": [],
   "source": [
    "a = AdminClient(conf)"
   ]
  },
  {
   "cell_type": "code",
   "execution_count": 6,
   "metadata": {},
   "outputs": [
    {
     "name": "stdout",
     "output_type": "stream",
     "text": [
      " 2 topics:\n",
      "  \"_schemas\" with 1 partition(s)\n",
      "  \"TemperatureSensorEvent\" with 1 partition(s)\n"
     ]
    }
   ],
   "source": [
    "md = a.list_topics(timeout=10)\n",
    "print(\" {} topics:\".format(len(md.topics)))\n",
    "for t in iter(md.topics.values()):\n",
    "    if t.error is not None:\n",
    "        errstr = \": {}\".format(t.error)\n",
    "    else:\n",
    "        errstr = \"\"\n",
    "    ##if not (str(t)).startswith(\"_\"):\n",
    "    print(\"  \\\"{}\\\" with {} partition(s){}\".format(t, len(t.partitions), errstr))"
   ]
  },
  {
   "cell_type": "code",
   "execution_count": 7,
   "metadata": {},
   "outputs": [],
   "source": [
    "#fs = a.create_topics([NewTopic(\"test1p\", num_partitions=1, replication_factor=1)])\n",
    "\n",
    "#for topic, f in fs.items():\n",
    "#    try:\n",
    "#        f.result()  # The result itself is None\n",
    "#        print(\"Topic {} created\".format(topic))\n",
    "#    except Exception as e:\n",
    "#        print(\"Failed to create topic {}: {}\".format(topic, e))"
   ]
  },
  {
   "cell_type": "code",
   "execution_count": 8,
   "metadata": {},
   "outputs": [],
   "source": [
    "from confluent_kafka import SerializingProducer\n",
    "from confluent_kafka.serialization import *\n",
    "\n",
    "import time\n",
    "\n",
    "topic = \"SmokeSensorEvent\"\n",
    "\n",
    "def delivery_report(err, msg):\n",
    "    if err is not None:\n",
    "        print(\"Failed to deliver message: {}\".format(err))\n",
    "    else:\n",
    "        print(\"Produced record to topic {} partition [{}] @ offset {}\"\n",
    "              .format(msg.topic(), msg.partition(), msg.offset()))"
   ]
  },
  {
   "cell_type": "code",
   "execution_count": 9,
   "metadata": {},
   "outputs": [],
   "source": [
    "producer_conf = {\n",
    "        'bootstrap.servers': bootstrap_server,\n",
    "        'key.serializer': StringSerializer('utf_8'),\n",
    "        'value.serializer': StringSerializer('utf_8')\n",
    "}\n",
    "\n",
    "producer = SerializingProducer(producer_conf)"
   ]
  },
  {
   "cell_type": "markdown",
   "metadata": {},
   "source": [
    "## run the following cell to demostrate that fire is not detected"
   ]
  },
  {
   "cell_type": "code",
   "execution_count": 10,
   "metadata": {},
   "outputs": [
    {
     "name": "stdout",
     "output_type": "stream",
     "text": [
      "{'sensor': 'S1', 'smoke': False, 'ts': 1606232086}\n",
      "{'sensor': 'S1', 'smoke': False, 'ts': 1606232097}\n",
      "Produced record to topic SmokeSensorEvent partition [0] @ offset 0\n",
      "{'sensor': 'S1', 'smoke': False, 'ts': 1606232107}\n",
      "Produced record to topic SmokeSensorEvent partition [0] @ offset 1\n",
      "{'sensor': 'S1', 'smoke': False, 'ts': 1606232117}\n",
      "Produced record to topic SmokeSensorEvent partition [0] @ offset 2\n",
      "{'sensor': 'S1', 'smoke': False, 'ts': 1606232127}\n",
      "Produced record to topic SmokeSensorEvent partition [0] @ offset 3\n",
      "{'sensor': 'S1', 'smoke': False, 'ts': 1606232137}\n",
      "Produced record to topic SmokeSensorEvent partition [0] @ offset 4\n",
      "{'sensor': 'S1', 'smoke': False, 'ts': 1606232147}\n",
      "Produced record to topic SmokeSensorEvent partition [0] @ offset 5\n",
      "{'sensor': 'S1', 'smoke': False, 'ts': 1606232157}\n",
      "Produced record to topic SmokeSensorEvent partition [0] @ offset 6\n",
      "{'sensor': 'S1', 'smoke': False, 'ts': 1606232167}\n",
      "Produced record to topic SmokeSensorEvent partition [0] @ offset 7\n",
      "{'sensor': 'S1', 'smoke': False, 'ts': 1606232177}\n",
      "Produced record to topic SmokeSensorEvent partition [0] @ offset 8\n",
      "{'sensor': 'S1', 'smoke': False, 'ts': 1606232187}\n",
      "Produced record to topic SmokeSensorEvent partition [0] @ offset 9\n",
      "{'sensor': 'S1', 'smoke': False, 'ts': 1606232197}\n",
      "Produced record to topic SmokeSensorEvent partition [0] @ offset 10\n",
      "{'sensor': 'S1', 'smoke': False, 'ts': 1606232207}\n",
      "Produced record to topic SmokeSensorEvent partition [0] @ offset 11\n",
      "{'sensor': 'S1', 'smoke': False, 'ts': 1606232217}\n",
      "Produced record to topic SmokeSensorEvent partition [0] @ offset 12\n",
      "{'sensor': 'S1', 'smoke': False, 'ts': 1606232227}\n",
      "Produced record to topic SmokeSensorEvent partition [0] @ offset 13\n",
      "{'sensor': 'S1', 'smoke': False, 'ts': 1606232237}\n",
      "Produced record to topic SmokeSensorEvent partition [0] @ offset 14\n",
      "{'sensor': 'S1', 'smoke': False, 'ts': 1606232247}\n",
      "Produced record to topic SmokeSensorEvent partition [0] @ offset 15\n",
      "{'sensor': 'S1', 'smoke': False, 'ts': 1606232257}\n",
      "Produced record to topic SmokeSensorEvent partition [0] @ offset 16\n",
      "{'sensor': 'S1', 'smoke': False, 'ts': 1606232267}\n",
      "Produced record to topic SmokeSensorEvent partition [0] @ offset 17\n",
      "{'sensor': 'S1', 'smoke': False, 'ts': 1606232277}\n",
      "Produced record to topic SmokeSensorEvent partition [0] @ offset 18\n",
      "{'sensor': 'S1', 'smoke': False, 'ts': 1606232287}\n",
      "Produced record to topic SmokeSensorEvent partition [0] @ offset 19\n",
      "{'sensor': 'S1', 'smoke': False, 'ts': 1606232297}\n",
      "Produced record to topic SmokeSensorEvent partition [0] @ offset 20\n",
      "{'sensor': 'S1', 'smoke': False, 'ts': 1606232307}\n",
      "Produced record to topic SmokeSensorEvent partition [0] @ offset 21\n",
      "{'sensor': 'S1', 'smoke': False, 'ts': 1606232317}\n",
      "Produced record to topic SmokeSensorEvent partition [0] @ offset 22\n",
      "{'sensor': 'S1', 'smoke': False, 'ts': 1606232327}\n",
      "Produced record to topic SmokeSensorEvent partition [0] @ offset 23\n",
      "{'sensor': 'S1', 'smoke': False, 'ts': 1606232337}\n",
      "Produced record to topic SmokeSensorEvent partition [0] @ offset 24\n",
      "{'sensor': 'S1', 'smoke': False, 'ts': 1606232347}\n",
      "Produced record to topic SmokeSensorEvent partition [0] @ offset 25\n",
      "{'sensor': 'S1', 'smoke': False, 'ts': 1606232357}\n",
      "Produced record to topic SmokeSensorEvent partition [0] @ offset 26\n",
      "{'sensor': 'S1', 'smoke': False, 'ts': 1606232367}\n",
      "Produced record to topic SmokeSensorEvent partition [0] @ offset 27\n",
      "{'sensor': 'S1', 'smoke': False, 'ts': 1606232377}\n",
      "Produced record to topic SmokeSensorEvent partition [0] @ offset 28\n",
      "{'sensor': 'S1', 'smoke': False, 'ts': 1606232387}\n",
      "Produced record to topic SmokeSensorEvent partition [0] @ offset 29\n",
      "{'sensor': 'S1', 'smoke': False, 'ts': 1606232397}\n",
      "Produced record to topic SmokeSensorEvent partition [0] @ offset 30\n",
      "{'sensor': 'S1', 'smoke': False, 'ts': 1606232407}\n",
      "Produced record to topic SmokeSensorEvent partition [0] @ offset 31\n",
      "{'sensor': 'S1', 'smoke': False, 'ts': 1606232417}\n",
      "Produced record to topic SmokeSensorEvent partition [0] @ offset 32\n"
     ]
    },
    {
     "ename": "KeyboardInterrupt",
     "evalue": "",
     "output_type": "error",
     "traceback": [
      "\u001b[0;31m---------------------------------------------------------------------------\u001b[0m",
      "\u001b[0;31mKeyboardInterrupt\u001b[0m                         Traceback (most recent call last)",
      "\u001b[0;32m<ipython-input-10-d5de04644bfb>\u001b[0m in \u001b[0;36m<module>\u001b[0;34m\u001b[0m\n\u001b[1;32m      7\u001b[0m     \u001b[0mprint\u001b[0m\u001b[0;34m(\u001b[0m\u001b[0mvalue\u001b[0m\u001b[0;34m)\u001b[0m\u001b[0;34m\u001b[0m\u001b[0;34m\u001b[0m\u001b[0m\n\u001b[1;32m      8\u001b[0m     \u001b[0mproducer\u001b[0m\u001b[0;34m.\u001b[0m\u001b[0mpoll\u001b[0m\u001b[0;34m(\u001b[0m\u001b[0;36m1\u001b[0m\u001b[0;34m)\u001b[0m\u001b[0;34m\u001b[0m\u001b[0;34m\u001b[0m\u001b[0m\n\u001b[0;32m----> 9\u001b[0;31m     \u001b[0mtime\u001b[0m\u001b[0;34m.\u001b[0m\u001b[0msleep\u001b[0m\u001b[0;34m(\u001b[0m\u001b[0;36m10\u001b[0m\u001b[0;34m)\u001b[0m\u001b[0;34m\u001b[0m\u001b[0;34m\u001b[0m\u001b[0m\n\u001b[0m",
      "\u001b[0;31mKeyboardInterrupt\u001b[0m: "
     ]
    }
   ],
   "source": [
    "import json\n",
    "\n",
    "while True:\n",
    "    key = \"S1\"\n",
    "    value = {\"sensor\": \"S1\",\"smoke\": False,\"ts\":int(time.time())}\n",
    "    producer.produce(topic=topic, value=json.dumps(value), key=key, on_delivery=delivery_report)\n",
    "    print(value)\n",
    "    producer.poll(1)\n",
    "    time.sleep(10)\n"
   ]
  },
  {
   "cell_type": "markdown",
   "metadata": {},
   "source": [
    "## run the following cell to demostrate to detect fire"
   ]
  },
  {
   "cell_type": "code",
   "execution_count": null,
   "metadata": {},
   "outputs": [
    {
     "name": "stdout",
     "output_type": "stream",
     "text": [
      "{'sensor': 'S1', 'smoke': True, 'ts': 1606232426}\n",
      "Produced record to topic SmokeSensorEvent partition [0] @ offset 33\n",
      "{'sensor': 'S1', 'smoke': True, 'ts': 1606232436}\n",
      "Produced record to topic SmokeSensorEvent partition [0] @ offset 34\n",
      "{'sensor': 'S1', 'smoke': True, 'ts': 1606232446}\n",
      "Produced record to topic SmokeSensorEvent partition [0] @ offset 35\n",
      "{'sensor': 'S1', 'smoke': True, 'ts': 1606232456}\n",
      "Produced record to topic SmokeSensorEvent partition [0] @ offset 36\n",
      "{'sensor': 'S1', 'smoke': True, 'ts': 1606232466}\n",
      "Produced record to topic SmokeSensorEvent partition [0] @ offset 37\n",
      "{'sensor': 'S1', 'smoke': True, 'ts': 1606232476}\n",
      "Produced record to topic SmokeSensorEvent partition [0] @ offset 38\n",
      "{'sensor': 'S1', 'smoke': True, 'ts': 1606232486}\n",
      "Produced record to topic SmokeSensorEvent partition [0] @ offset 39\n",
      "{'sensor': 'S1', 'smoke': True, 'ts': 1606232496}\n",
      "Produced record to topic SmokeSensorEvent partition [0] @ offset 40\n",
      "{'sensor': 'S1', 'smoke': True, 'ts': 1606232506}\n",
      "Produced record to topic SmokeSensorEvent partition [0] @ offset 41\n",
      "{'sensor': 'S1', 'smoke': True, 'ts': 1606232516}\n",
      "Produced record to topic SmokeSensorEvent partition [0] @ offset 42\n",
      "{'sensor': 'S1', 'smoke': True, 'ts': 1606232526}\n",
      "Produced record to topic SmokeSensorEvent partition [0] @ offset 43\n",
      "{'sensor': 'S1', 'smoke': True, 'ts': 1606232536}\n",
      "Produced record to topic SmokeSensorEvent partition [0] @ offset 44\n",
      "{'sensor': 'S1', 'smoke': True, 'ts': 1606232546}\n",
      "Produced record to topic SmokeSensorEvent partition [0] @ offset 45\n",
      "{'sensor': 'S1', 'smoke': True, 'ts': 1606232556}\n",
      "Produced record to topic SmokeSensorEvent partition [0] @ offset 46\n",
      "{'sensor': 'S1', 'smoke': True, 'ts': 1606232566}\n",
      "Produced record to topic SmokeSensorEvent partition [0] @ offset 47\n",
      "{'sensor': 'S1', 'smoke': True, 'ts': 1606232576}\n",
      "Produced record to topic SmokeSensorEvent partition [0] @ offset 48\n",
      "{'sensor': 'S1', 'smoke': True, 'ts': 1606232586}\n",
      "Produced record to topic SmokeSensorEvent partition [0] @ offset 49\n",
      "{'sensor': 'S1', 'smoke': True, 'ts': 1606232596}\n",
      "Produced record to topic SmokeSensorEvent partition [0] @ offset 50\n",
      "{'sensor': 'S1', 'smoke': True, 'ts': 1606232606}\n",
      "Produced record to topic SmokeSensorEvent partition [0] @ offset 51\n",
      "{'sensor': 'S1', 'smoke': True, 'ts': 1606232616}\n",
      "Produced record to topic SmokeSensorEvent partition [0] @ offset 52\n",
      "{'sensor': 'S1', 'smoke': True, 'ts': 1606232626}\n",
      "Produced record to topic SmokeSensorEvent partition [0] @ offset 53\n",
      "{'sensor': 'S1', 'smoke': True, 'ts': 1606232636}\n",
      "Produced record to topic SmokeSensorEvent partition [0] @ offset 54\n",
      "{'sensor': 'S1', 'smoke': True, 'ts': 1606232646}\n",
      "Produced record to topic SmokeSensorEvent partition [0] @ offset 55\n",
      "{'sensor': 'S1', 'smoke': True, 'ts': 1606232656}\n",
      "Produced record to topic SmokeSensorEvent partition [0] @ offset 56\n",
      "{'sensor': 'S1', 'smoke': True, 'ts': 1606232666}\n",
      "Produced record to topic SmokeSensorEvent partition [0] @ offset 57\n",
      "{'sensor': 'S1', 'smoke': True, 'ts': 1606232676}\n",
      "Produced record to topic SmokeSensorEvent partition [0] @ offset 58\n",
      "{'sensor': 'S1', 'smoke': True, 'ts': 1606232686}\n",
      "Produced record to topic SmokeSensorEvent partition [0] @ offset 59\n",
      "{'sensor': 'S1', 'smoke': True, 'ts': 1606232696}\n",
      "Produced record to topic SmokeSensorEvent partition [0] @ offset 60\n",
      "{'sensor': 'S1', 'smoke': True, 'ts': 1606232706}\n",
      "Produced record to topic SmokeSensorEvent partition [0] @ offset 61\n",
      "{'sensor': 'S1', 'smoke': True, 'ts': 1606232716}\n",
      "Produced record to topic SmokeSensorEvent partition [0] @ offset 62\n",
      "{'sensor': 'S1', 'smoke': True, 'ts': 1606232726}\n",
      "Produced record to topic SmokeSensorEvent partition [0] @ offset 63\n",
      "{'sensor': 'S1', 'smoke': True, 'ts': 1606232736}\n",
      "Produced record to topic SmokeSensorEvent partition [0] @ offset 64\n",
      "{'sensor': 'S1', 'smoke': True, 'ts': 1606232746}\n",
      "Produced record to topic SmokeSensorEvent partition [0] @ offset 65\n",
      "{'sensor': 'S1', 'smoke': True, 'ts': 1606232756}\n",
      "Produced record to topic SmokeSensorEvent partition [0] @ offset 66\n",
      "{'sensor': 'S1', 'smoke': True, 'ts': 1606232766}\n",
      "Produced record to topic SmokeSensorEvent partition [0] @ offset 67\n",
      "{'sensor': 'S1', 'smoke': True, 'ts': 1606232776}\n",
      "Produced record to topic SmokeSensorEvent partition [0] @ offset 68\n",
      "{'sensor': 'S1', 'smoke': True, 'ts': 1606232786}\n",
      "Produced record to topic SmokeSensorEvent partition [0] @ offset 69\n",
      "{'sensor': 'S1', 'smoke': True, 'ts': 1606232796}\n",
      "Produced record to topic SmokeSensorEvent partition [0] @ offset 70\n",
      "{'sensor': 'S1', 'smoke': True, 'ts': 1606232806}\n",
      "Produced record to topic SmokeSensorEvent partition [0] @ offset 71\n",
      "{'sensor': 'S1', 'smoke': True, 'ts': 1606232816}\n",
      "Produced record to topic SmokeSensorEvent partition [0] @ offset 72\n",
      "{'sensor': 'S1', 'smoke': True, 'ts': 1606232826}\n",
      "Produced record to topic SmokeSensorEvent partition [0] @ offset 73\n",
      "{'sensor': 'S1', 'smoke': True, 'ts': 1606232836}\n",
      "Produced record to topic SmokeSensorEvent partition [0] @ offset 74\n",
      "{'sensor': 'S1', 'smoke': True, 'ts': 1606232846}\n",
      "Produced record to topic SmokeSensorEvent partition [0] @ offset 75\n",
      "{'sensor': 'S1', 'smoke': True, 'ts': 1606232856}\n",
      "Produced record to topic SmokeSensorEvent partition [0] @ offset 76\n",
      "{'sensor': 'S1', 'smoke': True, 'ts': 1606232866}\n",
      "Produced record to topic SmokeSensorEvent partition [0] @ offset 77\n",
      "{'sensor': 'S1', 'smoke': True, 'ts': 1606232876}\n",
      "Produced record to topic SmokeSensorEvent partition [0] @ offset 78\n",
      "{'sensor': 'S1', 'smoke': True, 'ts': 1606232886}\n",
      "Produced record to topic SmokeSensorEvent partition [0] @ offset 79\n",
      "{'sensor': 'S1', 'smoke': True, 'ts': 1606232896}\n",
      "Produced record to topic SmokeSensorEvent partition [0] @ offset 80\n",
      "{'sensor': 'S1', 'smoke': True, 'ts': 1606232906}\n",
      "Produced record to topic SmokeSensorEvent partition [0] @ offset 81\n",
      "{'sensor': 'S1', 'smoke': True, 'ts': 1606232916}\n",
      "Produced record to topic SmokeSensorEvent partition [0] @ offset 82\n",
      "{'sensor': 'S1', 'smoke': True, 'ts': 1606232926}\n",
      "Produced record to topic SmokeSensorEvent partition [0] @ offset 83\n",
      "{'sensor': 'S1', 'smoke': True, 'ts': 1606232936}\n",
      "Produced record to topic SmokeSensorEvent partition [0] @ offset 84\n",
      "{'sensor': 'S1', 'smoke': True, 'ts': 1606232946}\n",
      "Produced record to topic SmokeSensorEvent partition [0] @ offset 85\n",
      "{'sensor': 'S1', 'smoke': True, 'ts': 1606232956}\n",
      "Produced record to topic SmokeSensorEvent partition [0] @ offset 86\n",
      "{'sensor': 'S1', 'smoke': True, 'ts': 1606232966}\n",
      "Produced record to topic SmokeSensorEvent partition [0] @ offset 87\n",
      "{'sensor': 'S1', 'smoke': True, 'ts': 1606232976}\n",
      "Produced record to topic SmokeSensorEvent partition [0] @ offset 88\n",
      "{'sensor': 'S1', 'smoke': True, 'ts': 1606232986}\n",
      "Produced record to topic SmokeSensorEvent partition [0] @ offset 89\n",
      "{'sensor': 'S1', 'smoke': True, 'ts': 1606232996}\n",
      "Produced record to topic SmokeSensorEvent partition [0] @ offset 90\n",
      "{'sensor': 'S1', 'smoke': True, 'ts': 1606233006}\n",
      "Produced record to topic SmokeSensorEvent partition [0] @ offset 91\n",
      "{'sensor': 'S1', 'smoke': True, 'ts': 1606233016}\n",
      "Produced record to topic SmokeSensorEvent partition [0] @ offset 92\n",
      "{'sensor': 'S1', 'smoke': True, 'ts': 1606233026}\n",
      "Produced record to topic SmokeSensorEvent partition [0] @ offset 93\n",
      "{'sensor': 'S1', 'smoke': True, 'ts': 1606233036}\n",
      "Produced record to topic SmokeSensorEvent partition [0] @ offset 94\n",
      "{'sensor': 'S1', 'smoke': True, 'ts': 1606233046}\n",
      "Produced record to topic SmokeSensorEvent partition [0] @ offset 95\n",
      "{'sensor': 'S1', 'smoke': True, 'ts': 1606233056}\n",
      "Produced record to topic SmokeSensorEvent partition [0] @ offset 96\n",
      "{'sensor': 'S1', 'smoke': True, 'ts': 1606233066}\n",
      "Produced record to topic SmokeSensorEvent partition [0] @ offset 97\n",
      "{'sensor': 'S1', 'smoke': True, 'ts': 1606233076}\n",
      "Produced record to topic SmokeSensorEvent partition [0] @ offset 98\n",
      "{'sensor': 'S1', 'smoke': True, 'ts': 1606233086}\n",
      "Produced record to topic SmokeSensorEvent partition [0] @ offset 99\n",
      "{'sensor': 'S1', 'smoke': True, 'ts': 1606233096}\n",
      "Produced record to topic SmokeSensorEvent partition [0] @ offset 100\n",
      "{'sensor': 'S1', 'smoke': True, 'ts': 1606233106}\n",
      "Produced record to topic SmokeSensorEvent partition [0] @ offset 101\n",
      "{'sensor': 'S1', 'smoke': True, 'ts': 1606233116}\n",
      "Produced record to topic SmokeSensorEvent partition [0] @ offset 102\n",
      "{'sensor': 'S1', 'smoke': True, 'ts': 1606233126}\n",
      "Produced record to topic SmokeSensorEvent partition [0] @ offset 103\n",
      "{'sensor': 'S1', 'smoke': True, 'ts': 1606233136}\n",
      "Produced record to topic SmokeSensorEvent partition [0] @ offset 104\n",
      "{'sensor': 'S1', 'smoke': True, 'ts': 1606233146}\n",
      "Produced record to topic SmokeSensorEvent partition [0] @ offset 105\n",
      "{'sensor': 'S1', 'smoke': True, 'ts': 1606233156}\n",
      "Produced record to topic SmokeSensorEvent partition [0] @ offset 106\n",
      "{'sensor': 'S1', 'smoke': True, 'ts': 1606233166}\n",
      "Produced record to topic SmokeSensorEvent partition [0] @ offset 107\n",
      "{'sensor': 'S1', 'smoke': True, 'ts': 1606233176}\n",
      "Produced record to topic SmokeSensorEvent partition [0] @ offset 108\n",
      "{'sensor': 'S1', 'smoke': True, 'ts': 1606233186}\n",
      "Produced record to topic SmokeSensorEvent partition [0] @ offset 109\n",
      "{'sensor': 'S1', 'smoke': True, 'ts': 1606233196}\n",
      "Produced record to topic SmokeSensorEvent partition [0] @ offset 110\n",
      "{'sensor': 'S1', 'smoke': True, 'ts': 1606233206}\n",
      "Produced record to topic SmokeSensorEvent partition [0] @ offset 111\n"
     ]
    }
   ],
   "source": [
    "\n",
    "while True:\n",
    "    key = \"S1\"\n",
    "    value = {\"sensor\": \"S1\",\"smoke\": True,\"ts\":int(time.time())}\n",
    "    producer.produce(topic=topic, value=json.dumps(value), key=key, on_delivery=delivery_report)\n",
    "    print(value)\n",
    "    producer.poll(1)\n",
    "    time.sleep(10)"
   ]
  },
  {
   "cell_type": "code",
   "execution_count": null,
   "metadata": {},
   "outputs": [],
   "source": []
  }
 ],
 "metadata": {
  "kernelspec": {
   "display_name": "Python 3",
   "language": "python",
   "name": "python3"
  },
  "language_info": {
   "codemirror_mode": {
    "name": "ipython",
    "version": 3
   },
   "file_extension": ".py",
   "mimetype": "text/x-python",
   "name": "python",
   "nbconvert_exporter": "python",
   "pygments_lexer": "ipython3",
   "version": "3.8.6"
  }
 },
 "nbformat": 4,
 "nbformat_minor": 4
}
