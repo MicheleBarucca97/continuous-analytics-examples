{
 "cells": [
  {
   "cell_type": "code",
   "execution_count": null,
   "metadata": {},
   "outputs": [],
   "source": [
    "!pip install ksql"
   ]
  },
  {
   "cell_type": "code",
   "execution_count": null,
   "metadata": {},
   "outputs": [],
   "source": [
    "from ksql import KSQLAPI\n",
    "ksql_client = KSQLAPI('http://ksqldb-server:8088')"
   ]
  },
  {
   "cell_type": "markdown",
   "metadata": {},
   "source": [
    "## Start Sending Temperature Data via API"
   ]
  },
  {
   "cell_type": "code",
   "execution_count": null,
   "metadata": {},
   "outputs": [],
   "source": [
    "rows = [\n",
    "        {\"sensor\": \"S1\", \"temperature\": 30, \"ts\": \"2021-10-23T06:00:00+0200\"},\n",
    "        {\"sensor\": \"S1\", \"temperature\": 40, \"ts\": \"2021-10-23T06:00:01+0200\"},\n",
    "        {\"sensor\": \"S1\", \"temperature\": 55, \"ts\": \"2021-10-23T06:00:02+0200\"},\n",
    "        {\"sensor\": \"S1\", \"temperature\": 55, \"ts\": \"2021-10-23T06:00:03+0200\"},\n",
    "        {\"sensor\": \"S1\", \"temperature\": 55, \"ts\": \"2021-10-23T06:00:04+0200\"}\n",
    "    ]\n",
    "\n",
    "results = ksql_client.inserts_stream(\"Temperature_STREAM\", rows)"
   ]
  },
  {
   "cell_type": "markdown",
   "metadata": {},
   "source": [
    "## Sending More Temperature Data via API (for testing Q0)..."
   ]
  },
  {
   "cell_type": "code",
   "execution_count": null,
   "metadata": {},
   "outputs": [],
   "source": [
    "rows = [\n",
    "        {\"sensor\": \"S1\", \"temperature\": 30, \"ts\": \"2021-10-23T06:00:05+0200\"},\n",
    "        {\"sensor\": \"S1\", \"temperature\": 60, \"ts\": \"2021-10-23T06:00:06+0200\"}\n",
    "    ]\n",
    "\n",
    "results = ksql_client.inserts_stream(\"Temperature_STREAM\", rows)"
   ]
  },
  {
   "cell_type": "markdown",
   "metadata": {},
   "source": [
    "## ... and More (for testing Q1)..."
   ]
  },
  {
   "cell_type": "code",
   "execution_count": null,
   "metadata": {},
   "outputs": [],
   "source": [
    "rows = [\n",
    "        {\"sensor\": \"S1\", \"temperature\": 70, \"ts\": \"2021-10-23T06:00:07+0200\"}\n",
    "    ]\n",
    "\n",
    "results = ksql_client.inserts_stream(\"Temperature_STREAM\", rows)"
   ]
  },
  {
   "cell_type": "markdown",
   "metadata": {},
   "source": [
    "## ... and More (for testing Q3)..."
   ]
  },
  {
   "cell_type": "code",
   "execution_count": null,
   "metadata": {},
   "outputs": [],
   "source": [
    "rows = [\n",
    "        {\"sensor\": \"S1\", \"temperature\": 80, \"ts\": \"2021-10-23T06:00:07+0200\"}\n",
    "    ]\n",
    "\n",
    "results = ksql_client.inserts_stream(\"Temperature_STREAM\", rows)"
   ]
  },
  {
   "cell_type": "markdown",
   "metadata": {},
   "source": [
    "## ... again..."
   ]
  },
  {
   "cell_type": "code",
   "execution_count": null,
   "metadata": {},
   "outputs": [],
   "source": [
    "rows = [\n",
    "        {\"sensor\": \"S1\", \"temperature\": 80, \"ts\": \"2021-10-23T06:00:09+0200\"}\n",
    "    ]\n",
    "\n",
    "results = ksql_client.inserts_stream(\"Temperature_STREAM\", rows)"
   ]
  },
  {
   "cell_type": "markdown",
   "metadata": {},
   "source": [
    "## ... and again..."
   ]
  },
  {
   "cell_type": "code",
   "execution_count": null,
   "metadata": {},
   "outputs": [],
   "source": [
    "rows = [\n",
    "        {\"sensor\": \"S1\", \"temperature\": 70, \"ts\": \"2021-10-23T06:00:07+0200\"}\n",
    "    ]\n",
    "\n",
    "results = ksql_client.inserts_stream(\"Temperature_STREAM\", rows)"
   ]
  },
  {
   "cell_type": "markdown",
   "metadata": {},
   "source": [
    "## ... and More (for testing Bonus Content)..."
   ]
  },
  {
   "cell_type": "code",
   "execution_count": null,
   "metadata": {},
   "outputs": [],
   "source": [
    "rows = [\n",
    "        {\"sensor\": \"S1\", \"temperature\": 70, \"ts\": \"2021-10-23T06:00:15+0200\"}\n",
    "    ]\n",
    "\n",
    "results = ksql_client.inserts_stream(\"Temperature_STREAM\", rows)"
   ]
  },
  {
   "cell_type": "markdown",
   "metadata": {},
   "source": [
    "## ... again..."
   ]
  },
  {
   "cell_type": "code",
   "execution_count": null,
   "metadata": {},
   "outputs": [],
   "source": [
    "rows = [\n",
    "        {\"sensor\": \"S1\", \"temperature\": 70, \"ts\": \"2021-10-23T06:00:15+0200\"}\n",
    "    ]\n",
    "\n",
    "results = ksql_client.inserts_stream(\"Temperature_STREAM\", rows)"
   ]
  },
  {
   "cell_type": "markdown",
   "metadata": {},
   "source": [
    "## ... and again..."
   ]
  },
  {
   "cell_type": "code",
   "execution_count": null,
   "metadata": {},
   "outputs": [],
   "source": [
    "rows = [\n",
    "        {\"sensor\": \"S1\", \"temperature\": 70, \"ts\": \"2021-10-23T06:00:07+0200\"}\n",
    "    ]\n",
    "\n",
    "results = ksql_client.inserts_stream(\"Temperature_STREAM\", rows)"
   ]
  }
 ],
 "metadata": {
  "kernelspec": {
   "display_name": "Python 3",
   "language": "python",
   "name": "python3"
  },
  "language_info": {
   "codemirror_mode": {
    "name": "ipython",
    "version": 3
   },
   "file_extension": ".py",
   "mimetype": "text/x-python",
   "name": "python",
   "nbconvert_exporter": "python",
   "pygments_lexer": "ipython3",
   "version": "3.8.6"
  }
 },
 "nbformat": 4,
 "nbformat_minor": 4
}
