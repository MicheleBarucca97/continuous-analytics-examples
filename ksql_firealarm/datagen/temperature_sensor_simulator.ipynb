{
 "cells": [
  {
   "cell_type": "code",
   "execution_count": 1,
   "metadata": {},
   "outputs": [
    {
     "name": "stdout",
     "output_type": "stream",
     "text": [
      "Collecting ksql\n",
      "  Downloading ksql-0.10.2.tar.gz (15 kB)\n",
      "Requirement already satisfied: requests in /opt/conda/lib/python3.8/site-packages (from ksql) (2.24.0)\n",
      "Requirement already satisfied: six in /opt/conda/lib/python3.8/site-packages (from ksql) (1.15.0)\n",
      "Requirement already satisfied: urllib3 in /opt/conda/lib/python3.8/site-packages (from ksql) (1.25.11)\n",
      "Collecting hyper\n",
      "  Downloading hyper-0.7.0-py2.py3-none-any.whl (269 kB)\n",
      "\u001b[K     |████████████████████████████████| 269 kB 3.6 MB/s eta 0:00:01\n",
      "\u001b[?25hRequirement already satisfied: chardet<4,>=3.0.2 in /opt/conda/lib/python3.8/site-packages (from requests->ksql) (3.0.4)\n",
      "Requirement already satisfied: idna<3,>=2.5 in /opt/conda/lib/python3.8/site-packages (from requests->ksql) (2.10)\n",
      "Requirement already satisfied: certifi>=2017.4.17 in /opt/conda/lib/python3.8/site-packages (from requests->ksql) (2020.6.20)\n",
      "Collecting hyperframe<4.0,>=3.2\n",
      "  Downloading hyperframe-3.2.0-py2.py3-none-any.whl (13 kB)\n",
      "Collecting h2<3.0,>=2.4\n",
      "  Downloading h2-2.6.2-py2.py3-none-any.whl (71 kB)\n",
      "\u001b[K     |████████████████████████████████| 71 kB 554 kB/s eta 0:00:011\n",
      "\u001b[?25hCollecting hpack<4,>=2.2\n",
      "  Downloading hpack-3.0.0-py2.py3-none-any.whl (38 kB)\n",
      "Building wheels for collected packages: ksql\n",
      "  Building wheel for ksql (setup.py) ... \u001b[?25ldone\n",
      "\u001b[?25h  Created wheel for ksql: filename=ksql-0.10.2-py3-none-any.whl size=12796 sha256=9a7847c804cb8068c09638c7c55f22b6a674f86bf6ec1a590c9e0ede76c27959\n",
      "  Stored in directory: /home/jovyan/.cache/pip/wheels/0f/40/c1/9fbdca865566449b00a3a6e0427a6cf08ce5a359dea6c684ff\n",
      "Successfully built ksql\n",
      "Installing collected packages: hyperframe, hpack, h2, hyper, ksql\n",
      "Successfully installed h2-2.6.2 hpack-3.0.0 hyper-0.7.0 hyperframe-3.2.0 ksql-0.10.2\n"
     ]
    }
   ],
   "source": [
    "!pip install ksql"
   ]
  },
  {
   "cell_type": "code",
   "execution_count": 2,
   "metadata": {},
   "outputs": [],
   "source": [
    "from ksql import KSQLAPI\n",
    "ksql_client = KSQLAPI('http://ksqldb-server:8088')"
   ]
  },
  {
   "cell_type": "markdown",
   "metadata": {},
   "source": [
    "## Start Sending Temperature Data via API"
   ]
  },
  {
   "cell_type": "code",
   "execution_count": null,
   "metadata": {},
   "outputs": [],
   "source": [
    "rows = [\n",
    "        {\"sensor\": \"S1\", \"temperature\": 30, \"ts\": \"2021-10-23T06:00:00+0200\"},\n",
    "        {\"sensor\": \"S1\", \"temperature\": 40, \"ts\": \"2021-10-23T06:00:01+0200\"},\n",
    "        {\"sensor\": \"S1\", \"temperature\": 55, \"ts\": \"2021-10-23T06:00:02+0200\"},\n",
    "        {\"sensor\": \"S1\", \"temperature\": 55, \"ts\": \"2021-10-23T06:00:03+0200\"},\n",
    "        {\"sensor\": \"S1\", \"temperature\": 55, \"ts\": \"2021-10-23T06:00:04+0200\"}\n",
    "    ]\n",
    "\n",
    "results = ksql_client.inserts_stream(\"Temperature_STREAM\", rows)"
   ]
  },
  {
   "cell_type": "markdown",
   "metadata": {},
   "source": [
    "## Sending More Temperature Data via API (for testing Q0)..."
   ]
  },
  {
   "cell_type": "code",
   "execution_count": null,
   "metadata": {},
   "outputs": [],
   "source": [
    "rows = [\n",
    "        {\"sensor\": \"S1\", \"temperature\": 30, \"ts\": \"2021-10-23T06:00:05+0200\"},\n",
    "        {\"sensor\": \"S1\", \"temperature\": 60, \"ts\": \"2021-10-23T06:00:06+0200\"}\n",
    "    ]\n",
    "\n",
    "results = ksql_client.inserts_stream(\"Temperature_STREAM\", rows)"
   ]
  },
  {
   "cell_type": "markdown",
   "metadata": {},
   "source": [
    "## ... and More (for testing Q1)..."
   ]
  },
  {
   "cell_type": "code",
   "execution_count": null,
   "metadata": {},
   "outputs": [],
   "source": [
    "rows = [\n",
    "        {\"sensor\": \"S1\", \"temperature\": 70, \"ts\": \"2021-10-23T06:00:07+0200\"}\n",
    "    ]\n",
    "\n",
    "results = ksql_client.inserts_stream(\"Temperature_STREAM\", rows)"
   ]
  },
  {
   "cell_type": "markdown",
   "metadata": {},
   "source": [
    "## ... and More (for testing Q3)..."
   ]
  },
  {
   "cell_type": "code",
   "execution_count": null,
   "metadata": {},
   "outputs": [],
   "source": [
    "rows = [\n",
    "        {\"sensor\": \"S1\", \"temperature\": 80, \"ts\": \"2021-10-23T06:00:07+0200\"}\n",
    "    ]\n",
    "\n",
    "results = ksql_client.inserts_stream(\"Temperature_STREAM\", rows)"
   ]
  },
  {
   "cell_type": "markdown",
   "metadata": {},
   "source": [
    "## ... again..."
   ]
  },
  {
   "cell_type": "code",
   "execution_count": null,
   "metadata": {},
   "outputs": [],
   "source": [
    "rows = [\n",
    "        {\"sensor\": \"S1\", \"temperature\": 80, \"ts\": \"2021-10-23T06:00:09+0200\"}\n",
    "    ]\n",
    "\n",
    "results = ksql_client.inserts_stream(\"Temperature_STREAM\", rows)"
   ]
  },
  {
   "cell_type": "markdown",
   "metadata": {},
   "source": [
    "## ... and again..."
   ]
  },
  {
   "cell_type": "code",
   "execution_count": null,
   "metadata": {},
   "outputs": [],
   "source": [
    "rows = [\n",
    "        {\"sensor\": \"S1\", \"temperature\": 70, \"ts\": \"2021-10-23T06:00:07+0200\"}\n",
    "    ]\n",
    "\n",
    "results = ksql_client.inserts_stream(\"Temperature_STREAM\", rows)"
   ]
  },
  {
   "cell_type": "markdown",
   "metadata": {},
   "source": [
    "## ... and More (for testing Bonus Content)..."
   ]
  },
  {
   "cell_type": "code",
   "execution_count": null,
   "metadata": {},
   "outputs": [],
   "source": [
    "rows = [\n",
    "        {\"sensor\": \"S1\", \"temperature\": 70, \"ts\": \"2021-10-23T06:00:15+0200\"}\n",
    "    ]\n",
    "\n",
    "results = ksql_client.inserts_stream(\"Temperature_STREAM\", rows)"
   ]
  },
  {
   "cell_type": "markdown",
   "metadata": {},
   "source": [
    "## ... again..."
   ]
  },
  {
   "cell_type": "code",
   "execution_count": null,
   "metadata": {},
   "outputs": [],
   "source": [
    "rows = [\n",
    "        {\"sensor\": \"S1\", \"temperature\": 70, \"ts\": \"2021-10-23T06:00:16+0200\"}\n",
    "    ]\n",
    "\n",
    "results = ksql_client.inserts_stream(\"Temperature_STREAM\", rows)"
   ]
  },
  {
   "cell_type": "markdown",
   "metadata": {},
   "source": [
    "## ... and again..."
   ]
  },
  {
   "cell_type": "code",
   "execution_count": null,
   "metadata": {},
   "outputs": [],
   "source": [
    "rows = [\n",
    "        {\"sensor\": \"S1\", \"temperature\": 70, \"ts\": \"2021-10-23T06:00:07+0200\"}\n",
    "    ]\n",
    "\n",
    "results = ksql_client.inserts_stream(\"Temperature_STREAM\", rows)"
   ]
  },
  {
   "cell_type": "markdown",
   "metadata": {},
   "source": [
    "## And now, live data!\n",
    "\n",
    "### causing no fire"
   ]
  },
  {
   "cell_type": "code",
   "execution_count": null,
   "metadata": {},
   "outputs": [],
   "source": [
    "from IPython.display import clear_output\n",
    "from random import gauss\n",
    "from datetime import datetime\n",
    "import pytz\n",
    "import time\n",
    "\n",
    "amsterdam = pytz.timezone('Europe/Amsterdam')\n",
    "\n",
    "while True:\n",
    "    ts = datetime.now().astimezone(amsterdam).strftime(\"%Y-%m-%dT%H:%M:%S%z\")\n",
    "    row = [{\"sensor\": \"S1\",\"temperature\": gauss(20, 1.0),\"ts\": ts}]\n",
    "    results = ksql_client.inserts_stream(\"Temperature_STREAM\", row)\n",
    "    print(row)\n",
    "    time.sleep(10)\n",
    "    clear_output(wait=True)\n",
    "    \n"
   ]
  },
  {
   "cell_type": "markdown",
   "metadata": {},
   "source": [
    "### causing fire (if also there is smoke)"
   ]
  },
  {
   "cell_type": "code",
   "execution_count": 3,
   "metadata": {},
   "outputs": [
    {
     "name": "stdout",
     "output_type": "stream",
     "text": [
      "[{'sensor': 'S1', 'temperature': 54.050085563401204, 'ts': '2021-11-04T15:20:13+0100'}]\n"
     ]
    },
    {
     "ename": "KeyboardInterrupt",
     "evalue": "",
     "output_type": "error",
     "traceback": [
      "\u001b[0;31m---------------------------------------------------------------------------\u001b[0m",
      "\u001b[0;31mKeyboardInterrupt\u001b[0m                         Traceback (most recent call last)",
      "\u001b[0;32m<ipython-input-3-95f566aca165>\u001b[0m in \u001b[0;36m<module>\u001b[0;34m\u001b[0m\n\u001b[1;32m     12\u001b[0m     \u001b[0mresults\u001b[0m \u001b[0;34m=\u001b[0m \u001b[0mksql_client\u001b[0m\u001b[0;34m.\u001b[0m\u001b[0minserts_stream\u001b[0m\u001b[0;34m(\u001b[0m\u001b[0;34m\"Temperature_STREAM\"\u001b[0m\u001b[0;34m,\u001b[0m \u001b[0mrow\u001b[0m\u001b[0;34m)\u001b[0m\u001b[0;34m\u001b[0m\u001b[0;34m\u001b[0m\u001b[0m\n\u001b[1;32m     13\u001b[0m     \u001b[0mprint\u001b[0m\u001b[0;34m(\u001b[0m\u001b[0mrow\u001b[0m\u001b[0;34m)\u001b[0m\u001b[0;34m\u001b[0m\u001b[0;34m\u001b[0m\u001b[0m\n\u001b[0;32m---> 14\u001b[0;31m     \u001b[0mtime\u001b[0m\u001b[0;34m.\u001b[0m\u001b[0msleep\u001b[0m\u001b[0;34m(\u001b[0m\u001b[0;36m10\u001b[0m\u001b[0;34m)\u001b[0m\u001b[0;34m\u001b[0m\u001b[0;34m\u001b[0m\u001b[0m\n\u001b[0m\u001b[1;32m     15\u001b[0m     \u001b[0mclear_output\u001b[0m\u001b[0;34m(\u001b[0m\u001b[0mwait\u001b[0m\u001b[0;34m=\u001b[0m\u001b[0;32mTrue\u001b[0m\u001b[0;34m)\u001b[0m\u001b[0;34m\u001b[0m\u001b[0;34m\u001b[0m\u001b[0m\n\u001b[1;32m     16\u001b[0m \u001b[0;34m\u001b[0m\u001b[0m\n",
      "\u001b[0;31mKeyboardInterrupt\u001b[0m: "
     ]
    }
   ],
   "source": [
    "from IPython.display import clear_output\n",
    "from random import gauss\n",
    "from datetime import datetime\n",
    "import pytz\n",
    "import time\n",
    "\n",
    "amsterdam = pytz.timezone('Europe/Amsterdam')\n",
    "\n",
    "while True:\n",
    "    ts = datetime.now().astimezone(amsterdam).strftime(\"%Y-%m-%dT%H:%M:%S%z\")\n",
    "    row = [{\"sensor\": \"S1\",\"temperature\": gauss(55, 1.0),\"ts\": ts}]\n",
    "    results = ksql_client.inserts_stream(\"Temperature_STREAM\", row)\n",
    "    print(row)\n",
    "    time.sleep(10)\n",
    "    clear_output(wait=True)\n",
    "    \n"
   ]
  },
  {
   "cell_type": "code",
   "execution_count": null,
   "metadata": {},
   "outputs": [],
   "source": []
  }
 ],
 "metadata": {
  "kernelspec": {
   "display_name": "Python 3",
   "language": "python",
   "name": "python3"
  },
  "language_info": {
   "codemirror_mode": {
    "name": "ipython",
    "version": 3
   },
   "file_extension": ".py",
   "mimetype": "text/x-python",
   "name": "python",
   "nbconvert_exporter": "python",
   "pygments_lexer": "ipython3",
   "version": "3.8.6"
  }
 },
 "nbformat": 4,
 "nbformat_minor": 4
}
