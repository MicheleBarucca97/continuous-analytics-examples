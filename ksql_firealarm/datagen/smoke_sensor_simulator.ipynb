{
 "cells": [
  {
   "cell_type": "code",
   "execution_count": null,
   "metadata": {},
   "outputs": [],
   "source": [
    "!pip install ksql"
   ]
  },
  {
   "cell_type": "code",
   "execution_count": null,
   "metadata": {},
   "outputs": [],
   "source": [
    "from ksql import KSQLAPI\n",
    "ksql_client = KSQLAPI('http://ksqldb-server:8088')"
   ]
  },
  {
   "cell_type": "markdown",
   "metadata": {},
   "source": [
    "## Start Sending smoke data via API"
   ]
  },
  {
   "cell_type": "code",
   "execution_count": null,
   "metadata": {},
   "outputs": [],
   "source": [
    "rows = [\n",
    "        {\"sensor\": \"S1\", \"smoke\": False, \"ts\": \"2021-10-23T06:00:00+0200\"},\n",
    "        {\"sensor\": \"S1\", \"smoke\": True, \"ts\": \"2021-10-23T06:00:01+0200\"},\n",
    "        {\"sensor\": \"S1\", \"smoke\": True, \"ts\": \"2021-10-23T06:00:02+0200\"},\n",
    "        {\"sensor\": \"S1\", \"smoke\": True, \"ts\": \"2021-10-23T06:00:03+0200\"},\n",
    "        {\"sensor\": \"S1\", \"smoke\": True, \"ts\": \"2021-10-23T06:00:04+0200\"}\n",
    "    ]\n",
    "\n",
    "results = ksql_client.inserts_stream(\"Smoke_STREAM\", rows)"
   ]
  }
 ],
 "metadata": {
  "kernelspec": {
   "display_name": "Python 3",
   "language": "python",
   "name": "python3"
  },
  "language_info": {
   "codemirror_mode": {
    "name": "ipython",
    "version": 3
   },
   "file_extension": ".py",
   "mimetype": "text/x-python",
   "name": "python",
   "nbconvert_exporter": "python",
   "pygments_lexer": "ipython3",
   "version": "3.8.6"
  }
 },
 "nbformat": 4,
 "nbformat_minor": 4
}
