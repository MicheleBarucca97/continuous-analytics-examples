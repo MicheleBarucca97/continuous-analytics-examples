{
 "cells": [
  {
   "cell_type": "code",
   "execution_count": null,
   "id": "creative-behavior",
   "metadata": {},
   "outputs": [],
   "source": [
    "import pandas as pd\n",
    "\n",
    "airline = pd.read_csv(\"airline_passengers.csv\")\n",
    "train_airline = airline[:108] \n",
    "test_airline = airline[108:] "
   ]
  },
  {
   "cell_type": "code",
   "execution_count": null,
   "id": "elementary-motion",
   "metadata": {},
   "outputs": [],
   "source": [
    "from datetime import datetime\n",
    "\n",
    "from influxdb_client import InfluxDBClient, Point, WritePrecision\n",
    "from influxdb_client.client.write_api import SYNCHRONOUS\n",
    "\n",
    "# Local\n",
    "url = \"http://influxdb:8086\"\n",
    "token = \"qc-token\"\n",
    "org = \"quantia\"\n",
    "bucket = \"training\"\n",
    "\n",
    "client = InfluxDBClient(url=url, token=token)\n",
    "write_api = client.write_api(write_options=SYNCHRONOUS)"
   ]
  },
  {
   "cell_type": "code",
   "execution_count": null,
   "id": "wicked-ladder",
   "metadata": {},
   "outputs": [],
   "source": [
    "from datetime import datetime\n",
    "from datetime import timedelta\n",
    "\n",
    "base = datetime.now().replace(second=0,microsecond=0) - timedelta(minutes=3)"
   ]
  },
  {
   "cell_type": "code",
   "execution_count": null,
   "id": "seasonal-hindu",
   "metadata": {},
   "outputs": [],
   "source": [
    "base"
   ]
  },
  {
   "cell_type": "code",
   "execution_count": null,
   "id": "narrative-coral",
   "metadata": {},
   "outputs": [],
   "source": [
    "from random import gauss\n",
    "import time\n",
    "\n",
    "for index, row in train_airline.iterrows():\n",
    "    base += timedelta(seconds=1)\n",
    "    point = Point(\"airline-train\").field(\"passengers\", row['Thousands of Passengers']).time(base)\n",
    "    print(point.to_line_protocol())\n",
    "    write_api.write(bucket, org, point)\n",
    "    \n",
    "for index, row in test_airline.iterrows():\n",
    "    base += timedelta(seconds=1)\n",
    "    point = Point(\"airline-test\").field(\"passengers\", row['Thousands of Passengers']).time(base)\n",
    "    print(point.to_line_protocol())\n",
    "    write_api.write(bucket, org, point)"
   ]
  },
  {
   "cell_type": "code",
   "execution_count": null,
   "id": "thirty-sweden",
   "metadata": {},
   "outputs": [],
   "source": []
  }
 ],
 "metadata": {
  "kernelspec": {
   "display_name": "Python 3",
   "language": "python",
   "name": "python3"
  },
  "language_info": {
   "codemirror_mode": {
    "name": "ipython",
    "version": 3
   },
   "file_extension": ".py",
   "mimetype": "text/x-python",
   "name": "python",
   "nbconvert_exporter": "python",
   "pygments_lexer": "ipython3",
   "version": "3.8.8"
  }
 },
 "nbformat": 4,
 "nbformat_minor": 5
}