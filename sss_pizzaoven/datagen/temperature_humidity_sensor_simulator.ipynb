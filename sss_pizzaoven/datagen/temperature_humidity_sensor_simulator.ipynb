{
 "cells": [
  {
   "cell_type": "code",
   "execution_count": null,
   "metadata": {},
   "outputs": [],
   "source": [
    "!pip install confluent-kafka==1.5"
   ]
  },
  {
   "cell_type": "code",
   "execution_count": null,
   "metadata": {},
   "outputs": [],
   "source": [
    "from confluent_kafka.admin import AdminClient, NewTopic, NewPartitions\n",
    "from confluent_kafka import KafkaException\n",
    "import sys\n",
    "from uuid import uuid4"
   ]
  },
  {
   "cell_type": "code",
   "execution_count": null,
   "metadata": {},
   "outputs": [],
   "source": [
    "bootstrap_server = \"kafka:9092\" # Brokers act as cluster entripoints"
   ]
  },
  {
   "cell_type": "code",
   "execution_count": null,
   "metadata": {},
   "outputs": [],
   "source": [
    "conf = {'bootstrap.servers': bootstrap_server}"
   ]
  },
  {
   "cell_type": "code",
   "execution_count": null,
   "metadata": {},
   "outputs": [],
   "source": [
    "a = AdminClient(conf)"
   ]
  },
  {
   "cell_type": "code",
   "execution_count": null,
   "metadata": {},
   "outputs": [],
   "source": [
    "md = a.list_topics(timeout=10)\n",
    "print(\" {} topics:\".format(len(md.topics)))\n",
    "for t in iter(md.topics.values()):\n",
    "    if t.error is not None:\n",
    "        errstr = \": {}\".format(t.error)\n",
    "    else:\n",
    "        errstr = \"\"\n",
    "    ##if not (str(t)).startswith(\"_\"):\n",
    "    print(\"  \\\"{}\\\" with {} partition(s){}\".format(t, len(t.partitions), errstr))"
   ]
  },
  {
   "cell_type": "code",
   "execution_count": null,
   "metadata": {},
   "outputs": [],
   "source": [
    "#fs = a.create_topics([NewTopic(\"test1p\", num_partitions=1, replication_factor=1)])\n",
    "\n",
    "#for topic, f in fs.items():\n",
    "#    try:\n",
    "#        f.result()  # The result itself is None\n",
    "#        print(\"Topic {} created\".format(topic))\n",
    "#    except Exception as e:\n",
    "#        print(\"Failed to create topic {}: {}\".format(topic, e))"
   ]
  },
  {
   "cell_type": "code",
   "execution_count": null,
   "metadata": {},
   "outputs": [],
   "source": [
    "from confluent_kafka import SerializingProducer\n",
    "from confluent_kafka.serialization import *\n",
    "import time\n",
    "\n",
    "topic = \"Temperature_Humidity_Sensor_Event\"\n",
    "\n",
    "def delivery_report(err, msg):\n",
    "    if err is not None:\n",
    "        print(\"Failed to deliver message: {}\".format(err))\n",
    "    else:\n",
    "        print(\"Produced record to topic {} partition [{}] @ offset {}\"\n",
    "              .format(msg.topic(), msg.partition(), msg.offset()))"
   ]
  },
  {
   "cell_type": "code",
   "execution_count": null,
   "metadata": {},
   "outputs": [],
   "source": [
    "producer_conf = {\n",
    "        'bootstrap.servers': bootstrap_server,\n",
    "        'key.serializer': StringSerializer('utf_8'),\n",
    "        'value.serializer': StringSerializer('utf_8')\n",
    "}\n",
    "\n",
    "producer = SerializingProducer(producer_conf)"
   ]
  },
  {
   "cell_type": "markdown",
   "metadata": {},
   "source": [
    "## run the following cell to start streaming the data"
   ]
  },
  {
   "cell_type": "code",
   "execution_count": null,
   "metadata": {},
   "outputs": [],
   "source": [
    "import json\n",
    "from random import gauss\n",
    "measurement_dict = {\n",
    "    \"1\": {\"sensor\":\"S1\", \"temperature\":290, \"humidity\":30, \"ts\":1595332800},\n",
    "    \"2\": {\"sensor\":\"S2\", \"temperature\":105, \"humidity\":55, \"ts\":1595332815},\n",
    "    \"3\": {\"sensor\":\"S2\", \"temperature\":110, \"humidity\":60, \"ts\":1595332845},\n",
    "    \"4\": {\"sensor\":\"S1\", \"temperature\":305, \"humidity\":38, \"ts\":1595332860},\n",
    "    \"5\": {\"sensor\":\"S2\", \"temperature\":120, \"humidity\":65, \"ts\":1595332875},\n",
    "    \"6\": {\"sensor\":\"S2\", \"temperature\":115, \"humidity\":60, \"ts\":1595332905},\n",
    "    \"7\": {\"sensor\":\"S1\", \"temperature\":280, \"humidity\":45, \"ts\":1595332920},\n",
    "    \"8\": {\"sensor\":\"S2\", \"temperature\":110, \"humidity\":67, \"ts\":1595332935},\n",
    "    \"9\": {\"sensor\":\"S2\", \"temperature\":115, \"humidity\":72, \"ts\":1595332965},\n",
    "    \"10\": {\"sensor\":\"S1\", \"temperature\":280,\"humidity\":22, \"ts\":1595332980},\n",
    "    \"11\": {\"sensor\":\"S2\", \"temperature\":95, \"humidity\":65, \"ts\":1595332995},\n",
    "    \"12\": {\"sensor\":\"S2\", \"temperature\":90, \"humidity\":60,  \"ts\":1595333025},\n",
    "    \"13\": {\"sensor\":\"S1\", \"temperature\":285, \"humidity\":32, \"ts\":1595333040},\n",
    "    \"14\": {\"sensor\":\"S2\", \"temperature\":100, \"humidity\":55, \"ts\":1595333055},\n",
    "    \"15\": {\"sensor\":\"S2\", \"temperature\":105, \"humidity\":60, \"ts\":1595333085}\n",
    "}\n",
    "#stream the original data with the original timestamps\n",
    "for measurement in measurement_dict.values():\n",
    "    key = measurement[\"sensor\"]\n",
    "    value = measurement\n",
    "    producer.produce(topic=topic, value=json.dumps(value), key=key, on_delivery=delivery_report)\n",
    "    print(value)\n",
    "    producer.poll(1)\n",
    "\n",
    "timestamp = 1595333085\n",
    "#create new data replacing the timestamp with now\n",
    "for measurement in measurement_dict.values():\n",
    "    timestamp = timestamp + 3\n",
    "    key = measurement[\"sensor\"]\n",
    "    measurement[\"ts\"] = timestamp\n",
    "    value = measurement\n",
    "    producer.produce(topic=topic, value=json.dumps(value), key=key, on_delivery=delivery_report)\n",
    "    print(value)\n",
    "    producer.poll(1)\n",
    "    time.sleep(3)"
   ]
  },
  {
   "cell_type": "markdown",
   "metadata": {},
   "source": [
    "## Run the following cell if you would like the streaming to keep going on"
   ]
  },
  {
   "cell_type": "code",
   "execution_count": null,
   "metadata": {},
   "outputs": [],
   "source": [
    "while (True):\n",
    "    for measurement in measurement_dict.values():\n",
    "        timestamp = timestamp + 3\n",
    "        key = measurement[\"sensor\"]\n",
    "        measurement[\"ts\"] = timestamp\n",
    "        value = measurement\n",
    "        producer.produce(topic=topic, value=json.dumps(value), key=key, on_delivery=delivery_report)\n",
    "        print(value)\n",
    "        producer.poll(1)\n",
    "        time.sleep(3)"
   ]
  },
  {
   "cell_type": "code",
   "execution_count": null,
   "metadata": {},
   "outputs": [],
   "source": []
  }
 ],
 "metadata": {
  "kernelspec": {
   "display_name": "Python 3",
   "language": "python",
   "name": "python3"
  },
  "language_info": {
   "codemirror_mode": {
    "name": "ipython",
    "version": 3
   },
   "file_extension": ".py",
   "mimetype": "text/x-python",
   "name": "python",
   "nbconvert_exporter": "python",
   "pygments_lexer": "ipython3",
   "version": "3.8.6"
  }
 },
 "nbformat": 4,
 "nbformat_minor": 4
}