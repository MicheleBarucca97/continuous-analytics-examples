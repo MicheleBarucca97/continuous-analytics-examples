{
 "cells": [
  {
   "cell_type": "code",
   "execution_count": 1,
   "metadata": {},
   "outputs": [
    {
     "name": "stdout",
     "output_type": "stream",
     "text": [
      "Requirement already satisfied: confluent-kafka==1.5 in /opt/conda/lib/python3.8/site-packages (1.5.0)\n"
     ]
    }
   ],
   "source": [
    "!pip install confluent-kafka==1.5"
   ]
  },
  {
   "cell_type": "code",
   "execution_count": 2,
   "metadata": {},
   "outputs": [],
   "source": [
    "from confluent_kafka.admin import AdminClient, NewTopic, NewPartitions\n",
    "from confluent_kafka import KafkaException\n",
    "import sys\n",
    "from uuid import uuid4"
   ]
  },
  {
   "cell_type": "code",
   "execution_count": 3,
   "metadata": {},
   "outputs": [],
   "source": [
    "bootstrap_server = \"kafka:9092\" # Brokers act as cluster entripoints"
   ]
  },
  {
   "cell_type": "code",
   "execution_count": 4,
   "metadata": {},
   "outputs": [],
   "source": [
    "conf = {'bootstrap.servers': bootstrap_server}"
   ]
  },
  {
   "cell_type": "code",
   "execution_count": 5,
   "metadata": {},
   "outputs": [],
   "source": [
    "a = AdminClient(conf)"
   ]
  },
  {
   "cell_type": "code",
   "execution_count": 6,
   "metadata": {},
   "outputs": [
    {
     "name": "stdout",
     "output_type": "stream",
     "text": [
      " 3 topics:\n",
      "  \"TemperatureHumiditySensorEvent\" with 1 partition(s)\n",
      "  \"_schemas\" with 1 partition(s)\n",
      "  \"__consumer_offsets\" with 50 partition(s)\n"
     ]
    }
   ],
   "source": [
    "md = a.list_topics(timeout=10)\n",
    "print(\" {} topics:\".format(len(md.topics)))\n",
    "for t in iter(md.topics.values()):\n",
    "    if t.error is not None:\n",
    "        errstr = \": {}\".format(t.error)\n",
    "    else:\n",
    "        errstr = \"\"\n",
    "    ##if not (str(t)).startswith(\"_\"):\n",
    "    print(\"  \\\"{}\\\" with {} partition(s){}\".format(t, len(t.partitions), errstr))"
   ]
  },
  {
   "cell_type": "code",
   "execution_count": 7,
   "metadata": {},
   "outputs": [],
   "source": [
    "#fs = a.create_topics([NewTopic(\"test1p\", num_partitions=1, replication_factor=1)])\n",
    "\n",
    "#for topic, f in fs.items():\n",
    "#    try:\n",
    "#        f.result()  # The result itself is None\n",
    "#        print(\"Topic {} created\".format(topic))\n",
    "#    except Exception as e:\n",
    "#        print(\"Failed to create topic {}: {}\".format(topic, e))"
   ]
  },
  {
   "cell_type": "code",
   "execution_count": 11,
   "metadata": {},
   "outputs": [],
   "source": [
    "from confluent_kafka import SerializingProducer\n",
    "from confluent_kafka.serialization import *\n",
    "import time\n",
    "\n",
    "topic = \"Temperature_Humidity_SensorEvent\"\n",
    "\n",
    "def delivery_report(err, msg):\n",
    "    if err is not None:\n",
    "        print(\"Failed to deliver message: {}\".format(err))\n",
    "    else:\n",
    "        print(\"Produced record to topic {} partition [{}] @ offset {}\"\n",
    "              .format(msg.topic(), msg.partition(), msg.offset()))"
   ]
  },
  {
   "cell_type": "code",
   "execution_count": 12,
   "metadata": {},
   "outputs": [],
   "source": [
    "producer_conf = {\n",
    "        'bootstrap.servers': bootstrap_server,\n",
    "        'key.serializer': StringSerializer('utf_8'),\n",
    "        'value.serializer': StringSerializer('utf_8')\n",
    "}\n",
    "\n",
    "producer = SerializingProducer(producer_conf)"
   ]
  },
  {
   "cell_type": "markdown",
   "metadata": {},
   "source": [
    "## run the following cell to start streaming the data"
   ]
  },
  {
   "cell_type": "code",
   "execution_count": 13,
   "metadata": {},
   "outputs": [
    {
     "name": "stdout",
     "output_type": "stream",
     "text": [
      "{'sensor': 'S1', 'temperature': 290, 'humidity': 30, 'ts': 1595332800}\n",
      "{'sensor': 'S2', 'temperature': 105, 'humidity': 55, 'ts': 1595332815}\n",
      "Produced record to topic Temperature_Humidity_SensorEvent partition [0] @ offset 0\n",
      "Produced record to topic Temperature_Humidity_SensorEvent partition [0] @ offset 1\n",
      "{'sensor': 'S2', 'temperature': 110, 'humidity': 60, 'ts': 1595332845}\n",
      "Produced record to topic Temperature_Humidity_SensorEvent partition [0] @ offset 2\n",
      "{'sensor': 'S1', 'temperature': 305, 'humidity': 38, 'ts': 1595332860}\n",
      "Produced record to topic Temperature_Humidity_SensorEvent partition [0] @ offset 3\n",
      "{'sensor': 'S2', 'temperature': 120, 'humidity': 65, 'ts': 1595332875}\n",
      "Produced record to topic Temperature_Humidity_SensorEvent partition [0] @ offset 4\n",
      "{'sensor': 'S2', 'temperature': 115, 'humidity': 60, 'ts': 1595332905}\n",
      "Produced record to topic Temperature_Humidity_SensorEvent partition [0] @ offset 5\n",
      "{'sensor': 'S1', 'temperature': 280, 'humidity': 45, 'ts': 1595332920}\n",
      "Produced record to topic Temperature_Humidity_SensorEvent partition [0] @ offset 6\n",
      "{'sensor': 'S2', 'temperature': 110, 'humidity': 67, 'ts': 1595332935}\n",
      "Produced record to topic Temperature_Humidity_SensorEvent partition [0] @ offset 7\n",
      "{'sensor': 'S2', 'temperature': 115, 'humidity': 72, 'ts': 1595332965}\n",
      "Produced record to topic Temperature_Humidity_SensorEvent partition [0] @ offset 8\n",
      "{'sensor': 'S1', 'temperature': 280, 'humidity': 22, 'ts': 1595332980}\n",
      "Produced record to topic Temperature_Humidity_SensorEvent partition [0] @ offset 9\n",
      "{'sensor': 'S2', 'temperature': 95, 'humidity': 65, 'ts': 1595332995}\n",
      "Produced record to topic Temperature_Humidity_SensorEvent partition [0] @ offset 10\n",
      "{'sensor': 'S2', 'temperature': 90, 'humidity': 60, 'ts': 1595333025}\n",
      "Produced record to topic Temperature_Humidity_SensorEvent partition [0] @ offset 11\n",
      "{'sensor': 'S1', 'temperature': 285, 'humidity': 32, 'ts': 1595333040}\n",
      "Produced record to topic Temperature_Humidity_SensorEvent partition [0] @ offset 12\n",
      "{'sensor': 'S2', 'temperature': 100, 'humidity': 55, 'ts': 1595333055}\n",
      "Produced record to topic Temperature_Humidity_SensorEvent partition [0] @ offset 13\n",
      "{'sensor': 'S2', 'temperature': 105, 'humidity': 60, 'ts': 1595333085}\n",
      "Produced record to topic Temperature_Humidity_SensorEvent partition [0] @ offset 14\n",
      "{'sensor': 'S1', 'temperature': 290, 'humidity': 30, 'ts': 1615129423}\n",
      "Produced record to topic Temperature_Humidity_SensorEvent partition [0] @ offset 15\n",
      "{'sensor': 'S2', 'temperature': 105, 'humidity': 55, 'ts': 1615129426}\n",
      "Produced record to topic Temperature_Humidity_SensorEvent partition [0] @ offset 16\n",
      "{'sensor': 'S2', 'temperature': 110, 'humidity': 60, 'ts': 1615129429}\n",
      "Produced record to topic Temperature_Humidity_SensorEvent partition [0] @ offset 17\n",
      "{'sensor': 'S1', 'temperature': 305, 'humidity': 38, 'ts': 1615129432}\n",
      "Produced record to topic Temperature_Humidity_SensorEvent partition [0] @ offset 18\n",
      "{'sensor': 'S2', 'temperature': 120, 'humidity': 65, 'ts': 1615129435}\n",
      "Produced record to topic Temperature_Humidity_SensorEvent partition [0] @ offset 19\n",
      "{'sensor': 'S2', 'temperature': 115, 'humidity': 60, 'ts': 1615129438}\n",
      "Produced record to topic Temperature_Humidity_SensorEvent partition [0] @ offset 20\n",
      "{'sensor': 'S1', 'temperature': 280, 'humidity': 45, 'ts': 1615129441}\n",
      "Produced record to topic Temperature_Humidity_SensorEvent partition [0] @ offset 21\n",
      "{'sensor': 'S2', 'temperature': 110, 'humidity': 67, 'ts': 1615129444}\n",
      "Produced record to topic Temperature_Humidity_SensorEvent partition [0] @ offset 22\n",
      "{'sensor': 'S2', 'temperature': 115, 'humidity': 72, 'ts': 1615129447}\n",
      "Produced record to topic Temperature_Humidity_SensorEvent partition [0] @ offset 23\n",
      "{'sensor': 'S1', 'temperature': 280, 'humidity': 22, 'ts': 1615129450}\n",
      "Produced record to topic Temperature_Humidity_SensorEvent partition [0] @ offset 24\n",
      "{'sensor': 'S2', 'temperature': 95, 'humidity': 65, 'ts': 1615129453}\n",
      "Produced record to topic Temperature_Humidity_SensorEvent partition [0] @ offset 25\n",
      "{'sensor': 'S2', 'temperature': 90, 'humidity': 60, 'ts': 1615129456}\n",
      "Produced record to topic Temperature_Humidity_SensorEvent partition [0] @ offset 26\n",
      "{'sensor': 'S1', 'temperature': 285, 'humidity': 32, 'ts': 1615129459}\n",
      "Produced record to topic Temperature_Humidity_SensorEvent partition [0] @ offset 27\n",
      "{'sensor': 'S2', 'temperature': 100, 'humidity': 55, 'ts': 1615129462}\n",
      "Produced record to topic Temperature_Humidity_SensorEvent partition [0] @ offset 28\n",
      "{'sensor': 'S2', 'temperature': 105, 'humidity': 60, 'ts': 1615129465}\n",
      "Produced record to topic Temperature_Humidity_SensorEvent partition [0] @ offset 29\n"
     ]
    }
   ],
   "source": [
    "import json\n",
    "from random import gauss\n",
    "measurement_dict = {\n",
    "    \"1\": {\"sensor\":\"S1\", \"temperature\":290, \"humidity\":30, \"ts\":1595332800},\n",
    "    \"2\": {\"sensor\":\"S2\", \"temperature\":105, \"humidity\":55, \"ts\":1595332815},\n",
    "    \"3\": {\"sensor\":\"S2\", \"temperature\":110, \"humidity\":60, \"ts\":1595332845},\n",
    "    \"4\": {\"sensor\":\"S1\", \"temperature\":305, \"humidity\":38, \"ts\":1595332860},\n",
    "    \"5\": {\"sensor\":\"S2\", \"temperature\":120, \"humidity\":65, \"ts\":1595332875},\n",
    "    \"6\": {\"sensor\":\"S2\", \"temperature\":115, \"humidity\":60, \"ts\":1595332905},\n",
    "    \"7\": {\"sensor\":\"S1\", \"temperature\":280, \"humidity\":45, \"ts\":1595332920},\n",
    "    \"8\": {\"sensor\":\"S2\", \"temperature\":110, \"humidity\":67, \"ts\":1595332935},\n",
    "    \"9\": {\"sensor\":\"S2\", \"temperature\":115, \"humidity\":72, \"ts\":1595332965},\n",
    "    \"10\": {\"sensor\":\"S1\", \"temperature\":280,\"humidity\":22, \"ts\":1595332980},\n",
    "    \"11\": {\"sensor\":\"S2\", \"temperature\":95, \"humidity\":65, \"ts\":1595332995},\n",
    "    \"12\": {\"sensor\":\"S2\", \"temperature\":90, \"humidity\":60,  \"ts\":1595333025},\n",
    "    \"13\": {\"sensor\":\"S1\", \"temperature\":285, \"humidity\":32, \"ts\":1595333040},\n",
    "    \"14\": {\"sensor\":\"S2\", \"temperature\":100, \"humidity\":55, \"ts\":1595333055},\n",
    "    \"15\": {\"sensor\":\"S2\", \"temperature\":105, \"humidity\":60, \"ts\":1595333085}\n",
    "}\n",
    "#stream the original data with the original timestamps\n",
    "for measurement in measurement_dict.values():\n",
    "    key = measurement[\"sensor\"]\n",
    "    value = measurement\n",
    "    producer.produce(topic=topic, value=json.dumps(value), key=key, on_delivery=delivery_report)\n",
    "    print(value)\n",
    "    producer.poll(1)\n",
    "\n",
    "#create new data replacing the timestamp with now\n",
    "#if you'd like make the data streaming continous an external while-true loop \n",
    "for measurement in measurement_dict.values():\n",
    "    key = measurement[\"sensor\"]\n",
    "    measurement[\"ts\"] = int(time.time())\n",
    "    value = measurement\n",
    "    producer.produce(topic=topic, value=json.dumps(value), key=key, on_delivery=delivery_report)\n",
    "    print(value)\n",
    "    producer.poll(1)\n",
    "    time.sleep(3)"
   ]
  },
  {
   "cell_type": "code",
   "execution_count": null,
   "metadata": {},
   "outputs": [],
   "source": []
  }
 ],
 "metadata": {
  "kernelspec": {
   "display_name": "Python 3",
   "language": "python",
   "name": "python3"
  },
  "language_info": {
   "codemirror_mode": {
    "name": "ipython",
    "version": 3
   },
   "file_extension": ".py",
   "mimetype": "text/x-python",
   "name": "python",
   "nbconvert_exporter": "python",
   "pygments_lexer": "ipython3",
   "version": "3.8.6"
  }
 },
 "nbformat": 4,
 "nbformat_minor": 4
}
